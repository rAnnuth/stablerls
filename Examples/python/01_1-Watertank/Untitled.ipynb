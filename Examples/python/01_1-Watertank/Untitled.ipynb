{
 "cells": [
  {
   "cell_type": "code",
   "execution_count": 7,
   "id": "0b44f840",
   "metadata": {},
   "outputs": [
    {
     "name": "stdout",
     "output_type": "stream",
     "text": [
      "The autoreload extension is already loaded. To reload it, use:\n",
      "  %reload_ext autoreload\n"
     ]
    },
    {
     "name": "stderr",
     "output_type": "stream",
     "text": [
      "2022-11-25 16:49:51,581\tINFO worker.py:1528 -- Started a local Ray instance.\n"
     ]
    },
    {
     "data": {
      "text/html": [
       "<div>\n",
       "    <div style=\"margin-left: 50px;display: flex;flex-direction: row;align-items: center\">\n",
       "        <h3 style=\"color: var(--jp-ui-font-color0)\">Ray</h3>\n",
       "        <svg version=\"1.1\" id=\"ray\" width=\"3em\" viewBox=\"0 0 144.5 144.6\" style=\"margin-left: 3em;margin-right: 3em\">\n",
       "            <g id=\"layer-1\">\n",
       "                <path fill=\"#00a2e9\" class=\"st0\" d=\"M97.3,77.2c-3.8-1.1-6.2,0.9-8.3,5.1c-3.5,6.8-9.9,9.9-17.4,9.6S58,88.1,54.8,81.2c-1.4-3-3-4-6.3-4.1\n",
       "                    c-5.6-0.1-9.9,0.1-13.1,6.4c-3.8,7.6-13.6,10.2-21.8,7.6C5.2,88.4-0.4,80.5,0,71.7c0.1-8.4,5.7-15.8,13.8-18.2\n",
       "                    c8.4-2.6,17.5,0.7,22.3,8c1.3,1.9,1.3,5.2,3.6,5.6c3.9,0.6,8,0.2,12,0.2c1.8,0,1.9-1.6,2.4-2.8c3.5-7.8,9.7-11.8,18-11.9\n",
       "                    c8.2-0.1,14.4,3.9,17.8,11.4c1.3,2.8,2.9,3.6,5.7,3.3c1-0.1,2,0.1,3,0c2.8-0.5,6.4,1.7,8.1-2.7s-2.3-5.5-4.1-7.5\n",
       "                    c-5.1-5.7-10.9-10.8-16.1-16.3C84,38,81.9,37.1,78,38.3C66.7,42,56.2,35.7,53,24.1C50.3,14,57.3,2.8,67.7,0.5\n",
       "                    C78.4-2,89,4.7,91.5,15.3c0.1,0.3,0.1,0.5,0.2,0.8c0.7,3.4,0.7,6.9-0.8,9.8c-1.7,3.2-0.8,5,1.5,7.2c6.7,6.5,13.3,13,19.8,19.7\n",
       "                    c1.8,1.8,3,2.1,5.5,1.2c9.1-3.4,17.9-0.6,23.4,7c4.8,6.9,4.6,16.1-0.4,22.9c-5.4,7.2-14.2,9.9-23.1,6.5c-2.3-0.9-3.5-0.6-5.1,1.1\n",
       "                    c-6.7,6.9-13.6,13.7-20.5,20.4c-1.8,1.8-2.5,3.2-1.4,5.9c3.5,8.7,0.3,18.6-7.7,23.6c-7.9,5-18.2,3.8-24.8-2.9\n",
       "                    c-6.4-6.4-7.4-16.2-2.5-24.3c4.9-7.8,14.5-11,23.1-7.8c3,1.1,4.7,0.5,6.9-1.7C91.7,98.4,98,92.3,104.2,86c1.6-1.6,4.1-2.7,2.6-6.2\n",
       "                    c-1.4-3.3-3.8-2.5-6.2-2.6C99.8,77.2,98.9,77.2,97.3,77.2z M72.1,29.7c5.5,0.1,9.9-4.3,10-9.8c0-0.1,0-0.2,0-0.3\n",
       "                    C81.8,14,77,9.8,71.5,10.2c-5,0.3-9,4.2-9.3,9.2c-0.2,5.5,4,10.1,9.5,10.3C71.8,29.7,72,29.7,72.1,29.7z M72.3,62.3\n",
       "                    c-5.4-0.1-9.9,4.2-10.1,9.7c0,0.2,0,0.3,0,0.5c0.2,5.4,4.5,9.7,9.9,10c5.1,0.1,9.9-4.7,10.1-9.8c0.2-5.5-4-10-9.5-10.3\n",
       "                    C72.6,62.3,72.4,62.3,72.3,62.3z M115,72.5c0.1,5.4,4.5,9.7,9.8,9.9c5.6-0.2,10-4.8,10-10.4c-0.2-5.4-4.6-9.7-10-9.7\n",
       "                    c-5.3-0.1-9.8,4.2-9.9,9.5C115,72.1,115,72.3,115,72.5z M19.5,62.3c-5.4,0.1-9.8,4.4-10,9.8c-0.1,5.1,5.2,10.4,10.2,10.3\n",
       "                    c5.6-0.2,10-4.9,9.8-10.5c-0.1-5.4-4.5-9.7-9.9-9.6C19.6,62.3,19.5,62.3,19.5,62.3z M71.8,134.6c5.9,0.2,10.3-3.9,10.4-9.6\n",
       "                    c0.5-5.5-3.6-10.4-9.1-10.8c-5.5-0.5-10.4,3.6-10.8,9.1c0,0.5,0,0.9,0,1.4c-0.2,5.3,4,9.8,9.3,10\n",
       "                    C71.6,134.6,71.7,134.6,71.8,134.6z\"/>\n",
       "            </g>\n",
       "        </svg>\n",
       "        <table>\n",
       "            <tr>\n",
       "                <td style=\"text-align: left\"><b>Python version:</b></td>\n",
       "                <td style=\"text-align: left\"><b>3.9.15</b></td>\n",
       "            </tr>\n",
       "            <tr>\n",
       "                <td style=\"text-align: left\"><b>Ray version:</b></td>\n",
       "                <td style=\"text-align: left\"><b> 2.1.0</b></td>\n",
       "            </tr>\n",
       "            \n",
       "        </table>\n",
       "    </div>\n",
       "</div>\n"
      ],
      "text/plain": [
       "RayContext(dashboard_url='', python_version='3.9.15', ray_version='2.1.0', ray_commit='be49bde7ee4f6adb3f8710aee0665c27f9f0bb62', address_info={'node_ip_address': '134.28.38.224', 'raylet_ip_address': '134.28.38.224', 'redis_address': None, 'object_store_address': '/tmp/ray/session_2022-11-25_16-49-49_942326_417813/sockets/plasma_store', 'raylet_socket_name': '/tmp/ray/session_2022-11-25_16-49-49_942326_417813/sockets/raylet', 'webui_url': '', 'session_dir': '/tmp/ray/session_2022-11-25_16-49-49_942326_417813', 'metrics_export_port': 65464, 'gcs_address': '134.28.38.224:47976', 'address': '134.28.38.224:47976', 'dashboard_agent_listen_port': 52365, 'node_id': '001fb97590455b9a1c29bc277e37a89c572af0840fb8d11a87d0e34e'})"
      ]
     },
     "execution_count": 7,
     "metadata": {},
     "output_type": "execute_result"
    }
   ],
   "source": [
    "try:\n",
    "    ray.shutdown()\n",
    "except:\n",
    "    pass\n",
    "\n",
    "%load_ext autoreload\n",
    "%autoreload 2\n",
    "\n",
    "import gym, ray\n",
    "from ray.rllib.algorithms import ppo\n",
    "from ray.rllib.algorithms import sac\n",
    "from ray.rllib.algorithms import pg\n",
    "from ray.rllib.algorithms import a3c\n",
    "from ray.rllib.algorithms import td3\n",
    "\n",
    "ray.init()"
   ]
  },
  {
   "cell_type": "code",
   "execution_count": null,
   "id": "bb6a6e86",
   "metadata": {},
   "outputs": [],
   "source": []
  },
  {
   "cell_type": "code",
   "execution_count": null,
   "id": "d6257263",
   "metadata": {},
   "outputs": [],
   "source": []
  },
  {
   "cell_type": "code",
   "execution_count": 8,
   "id": "3269bfef",
   "metadata": {},
   "outputs": [
    {
     "name": "stdout",
     "output_type": "stream",
     "text": [
      "\u001b[2m\u001b[36m(RolloutWorker pid=450568)\u001b[0m No function for resetIO implemented\n",
      "\u001b[2m\u001b[36m(RolloutWorker pid=450568)\u001b[0m Incompatible sample time and stop time.\n",
      "\u001b[2m\u001b[36m(RolloutWorker pid=450568)\u001b[0m  Using 10.0 as stop time instead\n",
      "\u001b[2m\u001b[36m(RolloutWorker pid=450568)\u001b[0m Incompatible sample time and action interval.\n",
      "\u001b[2m\u001b[36m(RolloutWorker pid=450568)\u001b[0m  Using 10000000.0 as interval instead\n",
      "\u001b[2m\u001b[36m(RolloutWorker pid=450565)\u001b[0m No function for resetIO implemented\n",
      "\u001b[2m\u001b[36m(RolloutWorker pid=450563)\u001b[0m No function for resetIO implemented\n",
      "\u001b[2m\u001b[36m(RolloutWorker pid=450563)\u001b[0m Incompatible sample time and stop time.\n",
      "\u001b[2m\u001b[36m(RolloutWorker pid=450563)\u001b[0m  Using 10.0 as stop time instead\n",
      "\u001b[2m\u001b[36m(RolloutWorker pid=450563)\u001b[0m Incompatible sample time and action interval.\n",
      "\u001b[2m\u001b[36m(RolloutWorker pid=450563)\u001b[0m  Using 10000000.0 as interval instead\n",
      "\u001b[2m\u001b[36m(RolloutWorker pid=450565)\u001b[0m Incompatible sample time and stop time.\n",
      "\u001b[2m\u001b[36m(RolloutWorker pid=450565)\u001b[0m  Using 10.0 as stop time instead\n",
      "\u001b[2m\u001b[36m(RolloutWorker pid=450565)\u001b[0m Incompatible sample time and action interval.\n",
      "\u001b[2m\u001b[36m(RolloutWorker pid=450565)\u001b[0m  Using 10000000.0 as interval instead\n",
      "\u001b[2m\u001b[36m(RolloutWorker pid=450566)\u001b[0m No function for resetIO implemented\n",
      "\u001b[2m\u001b[36m(RolloutWorker pid=450566)\u001b[0m Incompatible sample time and stop time.\n",
      "\u001b[2m\u001b[36m(RolloutWorker pid=450566)\u001b[0m  Using 10.0 as stop time instead\n",
      "\u001b[2m\u001b[36m(RolloutWorker pid=450566)\u001b[0m Incompatible sample time and action interval.\n",
      "\u001b[2m\u001b[36m(RolloutWorker pid=450566)\u001b[0m  Using 10000000.0 as interval instead\n",
      "\u001b[2m\u001b[36m(RolloutWorker pid=450581)\u001b[0m No function for resetIO implemented\n",
      "\u001b[2m\u001b[36m(RolloutWorker pid=450581)\u001b[0m Incompatible sample time and stop time.\n",
      "\u001b[2m\u001b[36m(RolloutWorker pid=450581)\u001b[0m  Using 10.0 as stop time instead\n",
      "\u001b[2m\u001b[36m(RolloutWorker pid=450581)\u001b[0m Incompatible sample time and action interval.\n",
      "\u001b[2m\u001b[36m(RolloutWorker pid=450581)\u001b[0m  Using 10000000.0 as interval instead\n",
      "\u001b[2m\u001b[36m(RolloutWorker pid=450579)\u001b[0m No function for resetIO implemented\n",
      "\u001b[2m\u001b[36m(RolloutWorker pid=450579)\u001b[0m Incompatible sample time and stop time.\n",
      "\u001b[2m\u001b[36m(RolloutWorker pid=450579)\u001b[0m  Using 10.0 as stop time instead\n",
      "\u001b[2m\u001b[36m(RolloutWorker pid=450579)\u001b[0m Incompatible sample time and action interval.\n",
      "\u001b[2m\u001b[36m(RolloutWorker pid=450579)\u001b[0m  Using 10000000.0 as interval instead\n",
      "\u001b[2m\u001b[36m(RolloutWorker pid=450575)\u001b[0m No function for resetIO implemented\n",
      "\u001b[2m\u001b[36m(RolloutWorker pid=450575)\u001b[0m Incompatible sample time and stop time.\n",
      "\u001b[2m\u001b[36m(RolloutWorker pid=450575)\u001b[0m  Using 10.0 as stop time instead\n",
      "\u001b[2m\u001b[36m(RolloutWorker pid=450575)\u001b[0m Incompatible sample time and action interval.\n",
      "\u001b[2m\u001b[36m(RolloutWorker pid=450575)\u001b[0m  Using 10000000.0 as interval instead\n",
      "\u001b[2m\u001b[36m(RolloutWorker pid=450569)\u001b[0m No function for resetIO implemented\n",
      "\u001b[2m\u001b[36m(RolloutWorker pid=450577)\u001b[0m No function for resetIO implemented\n",
      "\u001b[2m\u001b[36m(RolloutWorker pid=450577)\u001b[0m Incompatible sample time and stop time.\n",
      "\u001b[2m\u001b[36m(RolloutWorker pid=450577)\u001b[0m  Using 10.0 as stop time instead\n",
      "\u001b[2m\u001b[36m(RolloutWorker pid=450577)\u001b[0m Incompatible sample time and action interval.\n",
      "\u001b[2m\u001b[36m(RolloutWorker pid=450577)\u001b[0m  Using 10000000.0 as interval instead\n",
      "\u001b[2m\u001b[36m(RolloutWorker pid=450567)\u001b[0m No function for resetIO implemented\n",
      "\u001b[2m\u001b[36m(RolloutWorker pid=450574)\u001b[0m No function for resetIO implemented\n",
      "\u001b[2m\u001b[36m(RolloutWorker pid=450574)\u001b[0m Incompatible sample time and stop time.\n",
      "\u001b[2m\u001b[36m(RolloutWorker pid=450574)\u001b[0m  Using 10.0 as stop time instead\n",
      "\u001b[2m\u001b[36m(RolloutWorker pid=450574)\u001b[0m Incompatible sample time and action interval.\n",
      "\u001b[2m\u001b[36m(RolloutWorker pid=450574)\u001b[0m  Using 10000000.0 as interval instead\n",
      "\u001b[2m\u001b[36m(RolloutWorker pid=450571)\u001b[0m No function for resetIO implemented\n",
      "\u001b[2m\u001b[36m(RolloutWorker pid=450580)\u001b[0m No function for resetIO implemented\n",
      "\u001b[2m\u001b[36m(RolloutWorker pid=450564)\u001b[0m No function for resetIO implemented\n",
      "\u001b[2m\u001b[36m(RolloutWorker pid=450564)\u001b[0m Incompatible sample time and stop time.\n",
      "\u001b[2m\u001b[36m(RolloutWorker pid=450564)\u001b[0m  Using 10.0 as stop time instead\n",
      "\u001b[2m\u001b[36m(RolloutWorker pid=450564)\u001b[0m Incompatible sample time and action interval.\n",
      "\u001b[2m\u001b[36m(RolloutWorker pid=450564)\u001b[0m  Using 10000000.0 as interval instead\n",
      "\u001b[2m\u001b[36m(RolloutWorker pid=450578)\u001b[0m No function for resetIO implemented\n",
      "\u001b[2m\u001b[36m(RolloutWorker pid=450576)\u001b[0m No function for resetIO implemented\n",
      "\u001b[2m\u001b[36m(RolloutWorker pid=450570)\u001b[0m No function for resetIO implemented\n",
      "\u001b[2m\u001b[36m(RolloutWorker pid=450573)\u001b[0m No function for resetIO implemented\n",
      "\u001b[2m\u001b[36m(RolloutWorker pid=450571)\u001b[0m Incompatible sample time and stop time.\n",
      "\u001b[2m\u001b[36m(RolloutWorker pid=450571)\u001b[0m  Using 10.0 as stop time instead\n",
      "\u001b[2m\u001b[36m(RolloutWorker pid=450571)\u001b[0m Incompatible sample time and action interval.\n",
      "\u001b[2m\u001b[36m(RolloutWorker pid=450571)\u001b[0m  Using 10000000.0 as interval instead\n",
      "\u001b[2m\u001b[36m(RolloutWorker pid=450578)\u001b[0m Incompatible sample time and stop time.\n",
      "\u001b[2m\u001b[36m(RolloutWorker pid=450578)\u001b[0m  Using 10.0 as stop time instead\n",
      "\u001b[2m\u001b[36m(RolloutWorker pid=450578)\u001b[0m Incompatible sample time and action interval.\n",
      "\u001b[2m\u001b[36m(RolloutWorker pid=450578)\u001b[0m  Using 10000000.0 as interval instead\n",
      "\u001b[2m\u001b[36m(RolloutWorker pid=450569)\u001b[0m Incompatible sample time and stop time.\n",
      "\u001b[2m\u001b[36m(RolloutWorker pid=450569)\u001b[0m  Using 10.0 as stop time instead\n",
      "\u001b[2m\u001b[36m(RolloutWorker pid=450569)\u001b[0m Incompatible sample time and action interval.\n",
      "\u001b[2m\u001b[36m(RolloutWorker pid=450569)\u001b[0m  Using 10000000.0 as interval instead\n",
      "\u001b[2m\u001b[36m(RolloutWorker pid=450562)\u001b[0m No function for resetIO implemented\n",
      "\u001b[2m\u001b[36m(RolloutWorker pid=450562)\u001b[0m Incompatible sample time and stop time.\n",
      "\u001b[2m\u001b[36m(RolloutWorker pid=450562)\u001b[0m  Using 10.0 as stop time instead\n",
      "\u001b[2m\u001b[36m(RolloutWorker pid=450562)\u001b[0m Incompatible sample time and action interval.\n",
      "\u001b[2m\u001b[36m(RolloutWorker pid=450562)\u001b[0m  Using 10000000.0 as interval instead\n",
      "\u001b[2m\u001b[36m(RolloutWorker pid=450567)\u001b[0m Incompatible sample time and stop time.\n",
      "\u001b[2m\u001b[36m(RolloutWorker pid=450567)\u001b[0m  Using 10.0 as stop time instead\n",
      "\u001b[2m\u001b[36m(RolloutWorker pid=450567)\u001b[0m Incompatible sample time and action interval.\n",
      "\u001b[2m\u001b[36m(RolloutWorker pid=450567)\u001b[0m  Using 10000000.0 as interval instead\n",
      "\u001b[2m\u001b[36m(RolloutWorker pid=450570)\u001b[0m Incompatible sample time and stop time.\n",
      "\u001b[2m\u001b[36m(RolloutWorker pid=450570)\u001b[0m  Using 10.0 as stop time instead\n",
      "\u001b[2m\u001b[36m(RolloutWorker pid=450570)\u001b[0m Incompatible sample time and action interval.\n",
      "\u001b[2m\u001b[36m(RolloutWorker pid=450570)\u001b[0m  Using 10000000.0 as interval instead\n",
      "\u001b[2m\u001b[36m(RolloutWorker pid=450573)\u001b[0m Incompatible sample time and stop time.\n",
      "\u001b[2m\u001b[36m(RolloutWorker pid=450573)\u001b[0m  Using 10.0 as stop time instead\n",
      "\u001b[2m\u001b[36m(RolloutWorker pid=450573)\u001b[0m Incompatible sample time and action interval.\n",
      "\u001b[2m\u001b[36m(RolloutWorker pid=450573)\u001b[0m  Using 10000000.0 as interval instead\n",
      "\u001b[2m\u001b[36m(RolloutWorker pid=450580)\u001b[0m Incompatible sample time and stop time.\n",
      "\u001b[2m\u001b[36m(RolloutWorker pid=450580)\u001b[0m  Using 10.0 as stop time instead\n",
      "\u001b[2m\u001b[36m(RolloutWorker pid=450580)\u001b[0m Incompatible sample time and action interval.\n",
      "\u001b[2m\u001b[36m(RolloutWorker pid=450580)\u001b[0m  Using 10000000.0 as interval instead\n",
      "\u001b[2m\u001b[36m(RolloutWorker pid=450576)\u001b[0m Incompatible sample time and stop time.\n",
      "\u001b[2m\u001b[36m(RolloutWorker pid=450576)\u001b[0m  Using 10.0 as stop time instead\n",
      "\u001b[2m\u001b[36m(RolloutWorker pid=450576)\u001b[0m Incompatible sample time and action interval.\n",
      "\u001b[2m\u001b[36m(RolloutWorker pid=450576)\u001b[0m  Using 10000000.0 as interval instead\n",
      "\u001b[2m\u001b[36m(RolloutWorker pid=450572)\u001b[0m No function for resetIO implemented\n",
      "\u001b[2m\u001b[36m(RolloutWorker pid=450572)\u001b[0m Incompatible sample time and stop time.\n",
      "\u001b[2m\u001b[36m(RolloutWorker pid=450572)\u001b[0m  Using 10.0 as stop time instead\n",
      "\u001b[2m\u001b[36m(RolloutWorker pid=450572)\u001b[0m Incompatible sample time and action interval.\n",
      "\u001b[2m\u001b[36m(RolloutWorker pid=450572)\u001b[0m  Using 10000000.0 as interval instead\n"
     ]
    },
    {
     "name": "stderr",
     "output_type": "stream",
     "text": [
      "\u001b[2m\u001b[36m(RolloutWorker pid=450562)\u001b[0m 2022-11-25 16:49:57,051\tWARNING env.py:147 -- Your env doesn't have a .spec.max_episode_steps attribute. This is fine if you have set 'horizon' in your config dictionary, or `soft_horizon`. However, if you haven't, 'horizon' will default to infinity, and your environment will not be reset.\n",
      "/home/robert/git/env/lib/python3.9/site-packages/ray/rllib/algorithms/ddpg/ddpg_torch_model.py:110: UserWarning: The given NumPy array is not writable, and PyTorch does not support non-writable tensors. This means writing to this tensor will result in undefined behavior. You may want to copy the array to protect its data or make it writable before converting it to a tensor. This type of warning will be suppressed for the rest of this program. (Triggered internally at /opt/conda/conda-bld/pytorch_1666642975993/work/torch/csrc/utils/tensor_numpy.cpp:199.)\n",
      "  torch.from_numpy(self.action_space.low).float()\n"
     ]
    }
   ],
   "source": [
    "import os\n",
    "import fmuSimulation.gymFMU as ExampleFMU\n",
    "from fmuSimulation.configReader import configReader\n",
    "import numpy as np\n",
    "import sys\n",
    "from torchModel import customTorchModel, FullyConnectedNetwork\n",
    "from ExampleTorch import FullyConnectedNetwork\n",
    "#from ExampleTF import Keras_FullyConnectedNetwork as fcTF\n",
    "\n",
    "config = os.path.abspath('Example.cfg')\n",
    "cfg = configReader(config)\n",
    "config = cfg.getAgent()\n",
    "#if 0:   \n",
    "config['framework'] = 'torch'\n",
    "    #agent = ppo.PPO(env=ExampleFMU.gymFMU, config={\"env_config\": config, \"num_workers\": 1, \"num_gpus\": 0})\n",
    "#config['model'] = {}\n",
    "#config['model']['custom_model'] = FullyConnectedNetwork\n",
    "#config['model']['custom_model'] = customTorchModel\n",
    "#config['model']['fcnet_hiddens'] = [2]\n",
    "#\n",
    "#config['model']['no_final_linear'] = False\n",
    "#config['model']['custom_model'] = MyKerasModel\n",
    "#agent = pg.PG(env=ExampleFMU.gymFMU, config=config)\n",
    "\n",
    "agent = td3.TD3(env=ExampleFMU.gymFMU, config=config)\n",
    "#agent = ppo.PPO(env=ExampleFMU.gymFMU, config=config)\n"
   ]
  },
  {
   "cell_type": "code",
   "execution_count": 9,
   "id": "e13acc6e",
   "metadata": {
    "scrolled": true
   },
   "outputs": [
    {
     "name": "stdout",
     "output_type": "stream",
     "text": [
      "  1 reward -60.66/-60.35/-49.75 len   1.00 saved /home/robert/ray_results/TD3_gymFMU_2022-11-25_16-49-52f9ykgxmh/checkpoint_000001\n",
      "  2 reward -60.66/-60.36/-50.51 len   1.00 saved /home/robert/ray_results/TD3_gymFMU_2022-11-25_16-49-52f9ykgxmh/checkpoint_000002\n",
      "  3 reward -60.66/-60.38/-52.55 len   1.00 saved /home/robert/ray_results/TD3_gymFMU_2022-11-25_16-49-52f9ykgxmh/checkpoint_000003\n",
      "  4 reward -60.66/-60.34/-52.83 len   1.00 saved /home/robert/ray_results/TD3_gymFMU_2022-11-25_16-49-52f9ykgxmh/checkpoint_000004\n",
      "  5 reward -60.66/-60.45/-55.38 len   1.00 saved /home/robert/ray_results/TD3_gymFMU_2022-11-25_16-49-52f9ykgxmh/checkpoint_000005\n",
      "  6 reward -60.66/-60.35/-50.86 len   1.00 saved /home/robert/ray_results/TD3_gymFMU_2022-11-25_16-49-52f9ykgxmh/checkpoint_000006\n",
      "  7 reward -60.66/-60.43/-53.72 len   1.00 saved /home/robert/ray_results/TD3_gymFMU_2022-11-25_16-49-52f9ykgxmh/checkpoint_000007\n",
      "  8 reward -60.66/-60.36/-50.20 len   1.00 saved /home/robert/ray_results/TD3_gymFMU_2022-11-25_16-49-52f9ykgxmh/checkpoint_000008\n",
      "  9 reward -60.66/-60.37/-52.06 len   1.00 saved /home/robert/ray_results/TD3_gymFMU_2022-11-25_16-49-52f9ykgxmh/checkpoint_000009\n"
     ]
    },
    {
     "name": "stderr",
     "output_type": "stream",
     "text": [
      "2022-11-25 16:50:36,924\tWARNING deprecation.py:47 -- DeprecationWarning: `concat_samples` has been deprecated. Use `concat_samples() from rllib.policy.sample_batch` instead. This will raise an error in the future!\n"
     ]
    },
    {
     "name": "stdout",
     "output_type": "stream",
     "text": [
      " 10 reward -60.66/-60.38/-51.75 len   1.00 saved /home/robert/ray_results/TD3_gymFMU_2022-11-25_16-49-52f9ykgxmh/checkpoint_000010\n",
      " 11 reward -60.66/-60.66/-57.78 len   1.00 saved /home/robert/ray_results/TD3_gymFMU_2022-11-25_16-49-52f9ykgxmh/checkpoint_000011\n",
      " 12 reward -60.66/-60.66/-60.66 len   1.00 saved /home/robert/ray_results/TD3_gymFMU_2022-11-25_16-49-52f9ykgxmh/checkpoint_000012\n",
      " 13 reward -60.66/-60.66/-60.66 len   1.00 saved /home/robert/ray_results/TD3_gymFMU_2022-11-25_16-49-52f9ykgxmh/checkpoint_000013\n",
      " 14 reward -60.66/-60.66/-60.66 len   1.00 saved /home/robert/ray_results/TD3_gymFMU_2022-11-25_16-49-52f9ykgxmh/checkpoint_000014\n",
      " 15 reward -60.66/-60.66/-60.66 len   1.00 saved /home/robert/ray_results/TD3_gymFMU_2022-11-25_16-49-52f9ykgxmh/checkpoint_000015\n",
      " 16 reward -60.66/-60.66/-60.66 len   1.00 saved /home/robert/ray_results/TD3_gymFMU_2022-11-25_16-49-52f9ykgxmh/checkpoint_000016\n",
      " 17 reward -60.66/-60.66/-60.66 len   1.00 saved /home/robert/ray_results/TD3_gymFMU_2022-11-25_16-49-52f9ykgxmh/checkpoint_000017\n",
      " 18 reward -60.66/-60.66/-60.66 len   1.00 saved /home/robert/ray_results/TD3_gymFMU_2022-11-25_16-49-52f9ykgxmh/checkpoint_000018\n",
      " 19 reward -60.66/-60.66/-60.66 len   1.00 saved /home/robert/ray_results/TD3_gymFMU_2022-11-25_16-49-52f9ykgxmh/checkpoint_000019\n",
      " 20 reward -60.66/-60.66/-60.66 len   1.00 saved /home/robert/ray_results/TD3_gymFMU_2022-11-25_16-49-52f9ykgxmh/checkpoint_000020\n",
      " 21 reward -60.66/-60.66/-60.66 len   1.00 saved /home/robert/ray_results/TD3_gymFMU_2022-11-25_16-49-52f9ykgxmh/checkpoint_000021\n",
      " 22 reward -60.66/-60.66/-60.66 len   1.00 saved /home/robert/ray_results/TD3_gymFMU_2022-11-25_16-49-52f9ykgxmh/checkpoint_000022\n",
      " 23 reward -60.66/-60.66/-60.66 len   1.00 saved /home/robert/ray_results/TD3_gymFMU_2022-11-25_16-49-52f9ykgxmh/checkpoint_000023\n",
      " 24 reward -60.66/-60.66/-60.66 len   1.00 saved /home/robert/ray_results/TD3_gymFMU_2022-11-25_16-49-52f9ykgxmh/checkpoint_000024\n",
      " 25 reward -60.66/-60.66/-60.66 len   1.00 saved /home/robert/ray_results/TD3_gymFMU_2022-11-25_16-49-52f9ykgxmh/checkpoint_000025\n",
      " 26 reward -60.66/-60.66/-60.66 len   1.00 saved /home/robert/ray_results/TD3_gymFMU_2022-11-25_16-49-52f9ykgxmh/checkpoint_000026\n",
      " 27 reward -60.66/-60.66/-60.66 len   1.00 saved /home/robert/ray_results/TD3_gymFMU_2022-11-25_16-49-52f9ykgxmh/checkpoint_000027\n",
      " 28 reward -60.66/-60.66/-60.66 len   1.00 saved /home/robert/ray_results/TD3_gymFMU_2022-11-25_16-49-52f9ykgxmh/checkpoint_000028\n",
      " 29 reward -60.66/-60.66/-60.66 len   1.00 saved /home/robert/ray_results/TD3_gymFMU_2022-11-25_16-49-52f9ykgxmh/checkpoint_000029\n",
      " 30 reward -60.66/-60.66/-60.66 len   1.00 saved /home/robert/ray_results/TD3_gymFMU_2022-11-25_16-49-52f9ykgxmh/checkpoint_000030\n",
      " 31 reward -60.66/-60.66/-60.66 len   1.00 saved /home/robert/ray_results/TD3_gymFMU_2022-11-25_16-49-52f9ykgxmh/checkpoint_000031\n",
      " 32 reward -60.66/-60.66/-60.66 len   1.00 saved /home/robert/ray_results/TD3_gymFMU_2022-11-25_16-49-52f9ykgxmh/checkpoint_000032\n",
      " 33 reward -60.66/-60.66/-60.66 len   1.00 saved /home/robert/ray_results/TD3_gymFMU_2022-11-25_16-49-52f9ykgxmh/checkpoint_000033\n",
      " 34 reward -60.66/-60.66/-60.66 len   1.00 saved /home/robert/ray_results/TD3_gymFMU_2022-11-25_16-49-52f9ykgxmh/checkpoint_000034\n",
      " 35 reward -60.66/-60.66/-60.66 len   1.00 saved /home/robert/ray_results/TD3_gymFMU_2022-11-25_16-49-52f9ykgxmh/checkpoint_000035\n",
      " 36 reward -60.66/-60.66/-60.66 len   1.00 saved /home/robert/ray_results/TD3_gymFMU_2022-11-25_16-49-52f9ykgxmh/checkpoint_000036\n",
      " 37 reward -60.66/-60.66/-60.66 len   1.00 saved /home/robert/ray_results/TD3_gymFMU_2022-11-25_16-49-52f9ykgxmh/checkpoint_000037\n",
      " 38 reward -60.66/-60.66/-60.66 len   1.00 saved /home/robert/ray_results/TD3_gymFMU_2022-11-25_16-49-52f9ykgxmh/checkpoint_000038\n",
      " 39 reward -60.66/-60.66/-60.66 len   1.00 saved /home/robert/ray_results/TD3_gymFMU_2022-11-25_16-49-52f9ykgxmh/checkpoint_000039\n",
      " 40 reward -60.66/-60.66/-60.66 len   1.00 saved /home/robert/ray_results/TD3_gymFMU_2022-11-25_16-49-52f9ykgxmh/checkpoint_000040\n",
      " 41 reward -60.66/-60.66/-60.66 len   1.00 saved /home/robert/ray_results/TD3_gymFMU_2022-11-25_16-49-52f9ykgxmh/checkpoint_000041\n",
      " 42 reward -60.66/-60.66/-60.66 len   1.00 saved /home/robert/ray_results/TD3_gymFMU_2022-11-25_16-49-52f9ykgxmh/checkpoint_000042\n",
      " 43 reward -60.66/-60.66/-60.66 len   1.00 saved /home/robert/ray_results/TD3_gymFMU_2022-11-25_16-49-52f9ykgxmh/checkpoint_000043\n",
      " 44 reward -60.66/-60.66/-60.66 len   1.00 saved /home/robert/ray_results/TD3_gymFMU_2022-11-25_16-49-52f9ykgxmh/checkpoint_000044\n",
      " 45 reward -60.66/-60.66/-60.66 len   1.00 saved /home/robert/ray_results/TD3_gymFMU_2022-11-25_16-49-52f9ykgxmh/checkpoint_000045\n",
      " 46 reward -60.66/-60.66/-60.66 len   1.00 saved /home/robert/ray_results/TD3_gymFMU_2022-11-25_16-49-52f9ykgxmh/checkpoint_000046\n",
      " 47 reward -60.66/-60.66/-60.66 len   1.00 saved /home/robert/ray_results/TD3_gymFMU_2022-11-25_16-49-52f9ykgxmh/checkpoint_000047\n",
      " 48 reward -60.66/-60.66/-60.66 len   1.00 saved /home/robert/ray_results/TD3_gymFMU_2022-11-25_16-49-52f9ykgxmh/checkpoint_000048\n",
      " 49 reward -60.66/-60.66/-60.66 len   1.00 saved /home/robert/ray_results/TD3_gymFMU_2022-11-25_16-49-52f9ykgxmh/checkpoint_000049\n"
     ]
    },
    {
     "name": "stderr",
     "output_type": "stream",
     "text": [
      "E1125 16:55:00.250674533  498449 backup_poller.cc:136]       Run client channel backup poller: UNKNOWN:pollset_work {created_time:\"2022-11-25T16:55:00.250634845+01:00\", children:[UNKNOWN:Bad file descriptor {created_time:\"2022-11-25T16:55:00.250616057+01:00\", errno:9, os_error:\"Bad file descriptor\", syscall:\"epoll_wait\"}]}\n"
     ]
    },
    {
     "name": "stdout",
     "output_type": "stream",
     "text": [
      " 50 reward -60.66/-60.66/-60.66 len   1.00 saved /home/robert/ray_results/TD3_gymFMU_2022-11-25_16-49-52f9ykgxmh/checkpoint_000050\n",
      " 51 reward -60.66/-60.66/-60.66 len   1.00 saved /home/robert/ray_results/TD3_gymFMU_2022-11-25_16-49-52f9ykgxmh/checkpoint_000051\n",
      " 52 reward -60.66/-60.66/-60.66 len   1.00 saved /home/robert/ray_results/TD3_gymFMU_2022-11-25_16-49-52f9ykgxmh/checkpoint_000052\n",
      " 53 reward -60.66/-60.66/-60.66 len   1.00 saved /home/robert/ray_results/TD3_gymFMU_2022-11-25_16-49-52f9ykgxmh/checkpoint_000053\n",
      " 54 reward -60.66/-60.66/-60.66 len   1.00 saved /home/robert/ray_results/TD3_gymFMU_2022-11-25_16-49-52f9ykgxmh/checkpoint_000054\n",
      " 55 reward -60.66/-60.66/-60.66 len   1.00 saved /home/robert/ray_results/TD3_gymFMU_2022-11-25_16-49-52f9ykgxmh/checkpoint_000055\n",
      " 56 reward -60.66/-60.66/-60.66 len   1.00 saved /home/robert/ray_results/TD3_gymFMU_2022-11-25_16-49-52f9ykgxmh/checkpoint_000056\n",
      " 57 reward -60.66/-60.66/-60.66 len   1.00 saved /home/robert/ray_results/TD3_gymFMU_2022-11-25_16-49-52f9ykgxmh/checkpoint_000057\n",
      " 58 reward -60.66/-60.66/-60.66 len   1.00 saved /home/robert/ray_results/TD3_gymFMU_2022-11-25_16-49-52f9ykgxmh/checkpoint_000058\n",
      " 59 reward -60.66/-60.66/-60.66 len   1.00 saved /home/robert/ray_results/TD3_gymFMU_2022-11-25_16-49-52f9ykgxmh/checkpoint_000059\n",
      " 60 reward -60.66/-60.66/-60.66 len   1.00 saved /home/robert/ray_results/TD3_gymFMU_2022-11-25_16-49-52f9ykgxmh/checkpoint_000060\n",
      " 61 reward -60.66/-60.66/-60.66 len   1.00 saved /home/robert/ray_results/TD3_gymFMU_2022-11-25_16-49-52f9ykgxmh/checkpoint_000061\n",
      " 62 reward -60.66/-60.66/-60.66 len   1.00 saved /home/robert/ray_results/TD3_gymFMU_2022-11-25_16-49-52f9ykgxmh/checkpoint_000062\n",
      " 63 reward -60.66/-60.66/-60.66 len   1.00 saved /home/robert/ray_results/TD3_gymFMU_2022-11-25_16-49-52f9ykgxmh/checkpoint_000063\n",
      " 64 reward -60.66/-60.66/-60.66 len   1.00 saved /home/robert/ray_results/TD3_gymFMU_2022-11-25_16-49-52f9ykgxmh/checkpoint_000064\n",
      " 65 reward -60.66/-60.66/-60.66 len   1.00 saved /home/robert/ray_results/TD3_gymFMU_2022-11-25_16-49-52f9ykgxmh/checkpoint_000065\n",
      " 66 reward -60.66/-60.66/-60.66 len   1.00 saved /home/robert/ray_results/TD3_gymFMU_2022-11-25_16-49-52f9ykgxmh/checkpoint_000066\n",
      " 67 reward -60.66/-60.66/-60.66 len   1.00 saved /home/robert/ray_results/TD3_gymFMU_2022-11-25_16-49-52f9ykgxmh/checkpoint_000067\n",
      " 68 reward -60.66/-60.66/-60.66 len   1.00 saved /home/robert/ray_results/TD3_gymFMU_2022-11-25_16-49-52f9ykgxmh/checkpoint_000068\n",
      " 69 reward -60.66/-60.66/-60.66 len   1.00 saved /home/robert/ray_results/TD3_gymFMU_2022-11-25_16-49-52f9ykgxmh/checkpoint_000069\n",
      " 70 reward -60.66/-60.66/-60.66 len   1.00 saved /home/robert/ray_results/TD3_gymFMU_2022-11-25_16-49-52f9ykgxmh/checkpoint_000070\n",
      " 71 reward -60.66/-60.66/-60.66 len   1.00 saved /home/robert/ray_results/TD3_gymFMU_2022-11-25_16-49-52f9ykgxmh/checkpoint_000071\n",
      " 72 reward -60.66/-60.66/-60.66 len   1.00 saved /home/robert/ray_results/TD3_gymFMU_2022-11-25_16-49-52f9ykgxmh/checkpoint_000072\n",
      " 73 reward -60.66/-60.66/-60.66 len   1.00 saved /home/robert/ray_results/TD3_gymFMU_2022-11-25_16-49-52f9ykgxmh/checkpoint_000073\n",
      " 74 reward -60.66/-60.66/-60.66 len   1.00 saved /home/robert/ray_results/TD3_gymFMU_2022-11-25_16-49-52f9ykgxmh/checkpoint_000074\n",
      " 75 reward -60.66/-60.66/-60.66 len   1.00 saved /home/robert/ray_results/TD3_gymFMU_2022-11-25_16-49-52f9ykgxmh/checkpoint_000075\n",
      " 76 reward -60.66/-60.66/-60.66 len   1.00 saved /home/robert/ray_results/TD3_gymFMU_2022-11-25_16-49-52f9ykgxmh/checkpoint_000076\n",
      " 77 reward -60.66/-60.66/-60.66 len   1.00 saved /home/robert/ray_results/TD3_gymFMU_2022-11-25_16-49-52f9ykgxmh/checkpoint_000077\n",
      " 78 reward -60.66/-60.66/-60.66 len   1.00 saved /home/robert/ray_results/TD3_gymFMU_2022-11-25_16-49-52f9ykgxmh/checkpoint_000078\n",
      " 79 reward -60.66/-60.66/-60.66 len   1.00 saved /home/robert/ray_results/TD3_gymFMU_2022-11-25_16-49-52f9ykgxmh/checkpoint_000079\n",
      " 80 reward -60.66/-60.66/-60.66 len   1.00 saved /home/robert/ray_results/TD3_gymFMU_2022-11-25_16-49-52f9ykgxmh/checkpoint_000080\n",
      " 81 reward -60.66/-60.66/-60.66 len   1.00 saved /home/robert/ray_results/TD3_gymFMU_2022-11-25_16-49-52f9ykgxmh/checkpoint_000081\n",
      " 82 reward -60.66/-60.66/-60.66 len   1.00 saved /home/robert/ray_results/TD3_gymFMU_2022-11-25_16-49-52f9ykgxmh/checkpoint_000082\n",
      " 83 reward -60.66/-60.66/-60.66 len   1.00 saved /home/robert/ray_results/TD3_gymFMU_2022-11-25_16-49-52f9ykgxmh/checkpoint_000083\n",
      " 84 reward -60.66/-60.66/-60.66 len   1.00 saved /home/robert/ray_results/TD3_gymFMU_2022-11-25_16-49-52f9ykgxmh/checkpoint_000084\n",
      " 85 reward -60.66/-60.66/-60.66 len   1.00 saved /home/robert/ray_results/TD3_gymFMU_2022-11-25_16-49-52f9ykgxmh/checkpoint_000085\n",
      " 86 reward -60.66/-60.66/-60.66 len   1.00 saved /home/robert/ray_results/TD3_gymFMU_2022-11-25_16-49-52f9ykgxmh/checkpoint_000086\n",
      " 87 reward -60.66/-60.66/-60.66 len   1.00 saved /home/robert/ray_results/TD3_gymFMU_2022-11-25_16-49-52f9ykgxmh/checkpoint_000087\n",
      " 88 reward -60.66/-60.66/-60.66 len   1.00 saved /home/robert/ray_results/TD3_gymFMU_2022-11-25_16-49-52f9ykgxmh/checkpoint_000088\n",
      " 89 reward -60.66/-60.66/-60.66 len   1.00 saved /home/robert/ray_results/TD3_gymFMU_2022-11-25_16-49-52f9ykgxmh/checkpoint_000089\n",
      " 90 reward -60.66/-60.66/-60.66 len   1.00 saved /home/robert/ray_results/TD3_gymFMU_2022-11-25_16-49-52f9ykgxmh/checkpoint_000090\n",
      " 91 reward -60.66/-60.66/-60.66 len   1.00 saved /home/robert/ray_results/TD3_gymFMU_2022-11-25_16-49-52f9ykgxmh/checkpoint_000091\n",
      " 92 reward -60.66/-60.66/-60.66 len   1.00 saved /home/robert/ray_results/TD3_gymFMU_2022-11-25_16-49-52f9ykgxmh/checkpoint_000092\n",
      " 93 reward -60.66/-60.66/-60.66 len   1.00 saved /home/robert/ray_results/TD3_gymFMU_2022-11-25_16-49-52f9ykgxmh/checkpoint_000093\n",
      " 94 reward -60.66/-60.66/-60.66 len   1.00 saved /home/robert/ray_results/TD3_gymFMU_2022-11-25_16-49-52f9ykgxmh/checkpoint_000094\n",
      " 95 reward -60.66/-60.66/-60.66 len   1.00 saved /home/robert/ray_results/TD3_gymFMU_2022-11-25_16-49-52f9ykgxmh/checkpoint_000095\n",
      " 96 reward -60.66/-60.66/-60.66 len   1.00 saved /home/robert/ray_results/TD3_gymFMU_2022-11-25_16-49-52f9ykgxmh/checkpoint_000096\n",
      " 97 reward -60.66/-60.66/-60.66 len   1.00 saved /home/robert/ray_results/TD3_gymFMU_2022-11-25_16-49-52f9ykgxmh/checkpoint_000097\n",
      " 98 reward -60.66/-60.66/-60.66 len   1.00 saved /home/robert/ray_results/TD3_gymFMU_2022-11-25_16-49-52f9ykgxmh/checkpoint_000098\n",
      " 99 reward -60.66/-60.66/-60.66 len   1.00 saved /home/robert/ray_results/TD3_gymFMU_2022-11-25_16-49-52f9ykgxmh/checkpoint_000099\n",
      "100 reward -60.66/-60.66/-60.66 len   1.00 saved /home/robert/ray_results/TD3_gymFMU_2022-11-25_16-49-52f9ykgxmh/checkpoint_000100\n",
      "101 reward -60.66/-60.66/-60.66 len   1.00 saved /home/robert/ray_results/TD3_gymFMU_2022-11-25_16-49-52f9ykgxmh/checkpoint_000101\n",
      "102 reward -60.66/-60.66/-60.66 len   1.00 saved /home/robert/ray_results/TD3_gymFMU_2022-11-25_16-49-52f9ykgxmh/checkpoint_000102\n",
      "103 reward -60.66/-60.66/-60.66 len   1.00 saved /home/robert/ray_results/TD3_gymFMU_2022-11-25_16-49-52f9ykgxmh/checkpoint_000103\n",
      "104 reward -60.66/-60.66/-60.66 len   1.00 saved /home/robert/ray_results/TD3_gymFMU_2022-11-25_16-49-52f9ykgxmh/checkpoint_000104\n",
      "105 reward -60.66/-60.66/-60.66 len   1.00 saved /home/robert/ray_results/TD3_gymFMU_2022-11-25_16-49-52f9ykgxmh/checkpoint_000105\n",
      "106 reward -60.66/-60.66/-60.66 len   1.00 saved /home/robert/ray_results/TD3_gymFMU_2022-11-25_16-49-52f9ykgxmh/checkpoint_000106\n",
      "107 reward -60.66/-60.66/-60.66 len   1.00 saved /home/robert/ray_results/TD3_gymFMU_2022-11-25_16-49-52f9ykgxmh/checkpoint_000107\n",
      "108 reward -60.66/-60.66/-60.66 len   1.00 saved /home/robert/ray_results/TD3_gymFMU_2022-11-25_16-49-52f9ykgxmh/checkpoint_000108\n",
      "109 reward -60.66/-60.66/-60.66 len   1.00 saved /home/robert/ray_results/TD3_gymFMU_2022-11-25_16-49-52f9ykgxmh/checkpoint_000109\n",
      "110 reward -60.66/-60.66/-60.66 len   1.00 saved /home/robert/ray_results/TD3_gymFMU_2022-11-25_16-49-52f9ykgxmh/checkpoint_000110\n",
      "111 reward -60.66/-60.66/-60.66 len   1.00 saved /home/robert/ray_results/TD3_gymFMU_2022-11-25_16-49-52f9ykgxmh/checkpoint_000111\n",
      "112 reward -60.66/-60.66/-60.66 len   1.00 saved /home/robert/ray_results/TD3_gymFMU_2022-11-25_16-49-52f9ykgxmh/checkpoint_000112\n",
      "113 reward -60.66/-60.66/-60.66 len   1.00 saved /home/robert/ray_results/TD3_gymFMU_2022-11-25_16-49-52f9ykgxmh/checkpoint_000113\n",
      "114 reward -60.66/-60.66/-60.66 len   1.00 saved /home/robert/ray_results/TD3_gymFMU_2022-11-25_16-49-52f9ykgxmh/checkpoint_000114\n",
      "115 reward -60.66/-60.66/-60.66 len   1.00 saved /home/robert/ray_results/TD3_gymFMU_2022-11-25_16-49-52f9ykgxmh/checkpoint_000115\n",
      "116 reward -60.66/-60.66/-60.66 len   1.00 saved /home/robert/ray_results/TD3_gymFMU_2022-11-25_16-49-52f9ykgxmh/checkpoint_000116\n",
      "117 reward -60.66/-60.66/-60.66 len   1.00 saved /home/robert/ray_results/TD3_gymFMU_2022-11-25_16-49-52f9ykgxmh/checkpoint_000117\n",
      "118 reward -60.66/-60.66/-60.66 len   1.00 saved /home/robert/ray_results/TD3_gymFMU_2022-11-25_16-49-52f9ykgxmh/checkpoint_000118\n",
      "119 reward -60.66/-60.66/-60.66 len   1.00 saved /home/robert/ray_results/TD3_gymFMU_2022-11-25_16-49-52f9ykgxmh/checkpoint_000119\n",
      "120 reward -60.66/-60.66/-60.66 len   1.00 saved /home/robert/ray_results/TD3_gymFMU_2022-11-25_16-49-52f9ykgxmh/checkpoint_000120\n",
      "121 reward -60.66/-60.66/-60.66 len   1.00 saved /home/robert/ray_results/TD3_gymFMU_2022-11-25_16-49-52f9ykgxmh/checkpoint_000121\n",
      "122 reward -60.66/-60.66/-60.66 len   1.00 saved /home/robert/ray_results/TD3_gymFMU_2022-11-25_16-49-52f9ykgxmh/checkpoint_000122\n",
      "123 reward -60.66/-60.66/-60.66 len   1.00 saved /home/robert/ray_results/TD3_gymFMU_2022-11-25_16-49-52f9ykgxmh/checkpoint_000123\n",
      "124 reward -60.66/-60.66/-60.66 len   1.00 saved /home/robert/ray_results/TD3_gymFMU_2022-11-25_16-49-52f9ykgxmh/checkpoint_000124\n",
      "125 reward -60.66/-60.66/-60.66 len   1.00 saved /home/robert/ray_results/TD3_gymFMU_2022-11-25_16-49-52f9ykgxmh/checkpoint_000125\n",
      "126 reward -60.66/-60.66/-60.66 len   1.00 saved /home/robert/ray_results/TD3_gymFMU_2022-11-25_16-49-52f9ykgxmh/checkpoint_000126\n",
      "127 reward -60.66/-60.66/-60.66 len   1.00 saved /home/robert/ray_results/TD3_gymFMU_2022-11-25_16-49-52f9ykgxmh/checkpoint_000127\n",
      "128 reward -60.66/-60.66/-60.66 len   1.00 saved /home/robert/ray_results/TD3_gymFMU_2022-11-25_16-49-52f9ykgxmh/checkpoint_000128\n",
      "129 reward -60.66/-60.66/-60.66 len   1.00 saved /home/robert/ray_results/TD3_gymFMU_2022-11-25_16-49-52f9ykgxmh/checkpoint_000129\n",
      "130 reward -60.66/-60.66/-60.66 len   1.00 saved /home/robert/ray_results/TD3_gymFMU_2022-11-25_16-49-52f9ykgxmh/checkpoint_000130\n",
      "131 reward -60.66/-60.66/-60.66 len   1.00 saved /home/robert/ray_results/TD3_gymFMU_2022-11-25_16-49-52f9ykgxmh/checkpoint_000131\n",
      "132 reward -60.66/-60.66/-60.66 len   1.00 saved /home/robert/ray_results/TD3_gymFMU_2022-11-25_16-49-52f9ykgxmh/checkpoint_000132\n",
      "133 reward -60.66/-60.66/-60.66 len   1.00 saved /home/robert/ray_results/TD3_gymFMU_2022-11-25_16-49-52f9ykgxmh/checkpoint_000133\n",
      "134 reward -60.66/-60.66/-60.66 len   1.00 saved /home/robert/ray_results/TD3_gymFMU_2022-11-25_16-49-52f9ykgxmh/checkpoint_000134\n",
      "135 reward -60.66/-60.66/-60.66 len   1.00 saved /home/robert/ray_results/TD3_gymFMU_2022-11-25_16-49-52f9ykgxmh/checkpoint_000135\n",
      "136 reward -60.66/-60.66/-60.66 len   1.00 saved /home/robert/ray_results/TD3_gymFMU_2022-11-25_16-49-52f9ykgxmh/checkpoint_000136\n",
      "137 reward -60.66/-60.66/-60.66 len   1.00 saved /home/robert/ray_results/TD3_gymFMU_2022-11-25_16-49-52f9ykgxmh/checkpoint_000137\n",
      "138 reward -60.66/-60.66/-60.66 len   1.00 saved /home/robert/ray_results/TD3_gymFMU_2022-11-25_16-49-52f9ykgxmh/checkpoint_000138\n",
      "139 reward -60.66/-60.66/-60.66 len   1.00 saved /home/robert/ray_results/TD3_gymFMU_2022-11-25_16-49-52f9ykgxmh/checkpoint_000139\n",
      "140 reward -60.66/-60.66/-60.66 len   1.00 saved /home/robert/ray_results/TD3_gymFMU_2022-11-25_16-49-52f9ykgxmh/checkpoint_000140\n",
      "141 reward -60.66/-60.66/-60.66 len   1.00 saved /home/robert/ray_results/TD3_gymFMU_2022-11-25_16-49-52f9ykgxmh/checkpoint_000141\n",
      "142 reward -60.66/-60.66/-60.66 len   1.00 saved /home/robert/ray_results/TD3_gymFMU_2022-11-25_16-49-52f9ykgxmh/checkpoint_000142\n",
      "143 reward -60.66/-60.66/-60.66 len   1.00 saved /home/robert/ray_results/TD3_gymFMU_2022-11-25_16-49-52f9ykgxmh/checkpoint_000143\n",
      "144 reward -60.66/-60.66/-60.66 len   1.00 saved /home/robert/ray_results/TD3_gymFMU_2022-11-25_16-49-52f9ykgxmh/checkpoint_000144\n",
      "145 reward -60.66/-60.66/-60.66 len   1.00 saved /home/robert/ray_results/TD3_gymFMU_2022-11-25_16-49-52f9ykgxmh/checkpoint_000145\n",
      "146 reward -60.66/-60.66/-60.66 len   1.00 saved /home/robert/ray_results/TD3_gymFMU_2022-11-25_16-49-52f9ykgxmh/checkpoint_000146\n",
      "147 reward -60.66/-60.66/-60.66 len   1.00 saved /home/robert/ray_results/TD3_gymFMU_2022-11-25_16-49-52f9ykgxmh/checkpoint_000147\n",
      "148 reward -60.66/-60.66/-60.66 len   1.00 saved /home/robert/ray_results/TD3_gymFMU_2022-11-25_16-49-52f9ykgxmh/checkpoint_000148\n",
      "149 reward -60.66/-60.66/-60.66 len   1.00 saved /home/robert/ray_results/TD3_gymFMU_2022-11-25_16-49-52f9ykgxmh/checkpoint_000149\n"
     ]
    },
    {
     "name": "stderr",
     "output_type": "stream",
     "text": [
      "2022-11-25 17:06:23,181\tERROR serialization.py:371 -- Failed to unpickle serialized exception\n",
      "Traceback (most recent call last):\n",
      "  File \"/home/robert/git/env/lib/python3.9/site-packages/ray/exceptions.py\", line 46, in from_ray_exception\n",
      "    return pickle.loads(ray_exception.serialized_exception)\n",
      "TypeError: __init__() missing 1 required positional argument: 'status'\n",
      "\n",
      "The above exception was the direct cause of the following exception:\n",
      "\n",
      "Traceback (most recent call last):\n",
      "  File \"/home/robert/git/env/lib/python3.9/site-packages/ray/_private/serialization.py\", line 369, in deserialize_objects\n",
      "    obj = self._deserialize_object(data, metadata, object_ref)\n",
      "  File \"/home/robert/git/env/lib/python3.9/site-packages/ray/_private/serialization.py\", line 275, in _deserialize_object\n",
      "    return RayError.from_bytes(obj)\n",
      "  File \"/home/robert/git/env/lib/python3.9/site-packages/ray/exceptions.py\", line 40, in from_bytes\n",
      "    return RayError.from_ray_exception(ray_exception)\n",
      "  File \"/home/robert/git/env/lib/python3.9/site-packages/ray/exceptions.py\", line 49, in from_ray_exception\n",
      "    raise RuntimeError(msg) from e\n",
      "RuntimeError: Failed to unpickle serialized exception\n",
      "2022-11-25 17:06:23,184\tWARNING algorithm.py:2610 -- Worker crashed during training or evaluation! To try to continue without failed worker(s), set `ignore_worker_failures=True`. To try to recover the failed worker(s), set `recreate_failed_workers=True`.\n"
     ]
    },
    {
     "name": "stdout",
     "output_type": "stream",
     "text": [
      "\u001b[2m\u001b[36m(RolloutWorker pid=450579)\u001b[0m [ERROR] valueReference out of range\n"
     ]
    },
    {
     "ename": "RaySystemError",
     "evalue": "System error: Failed to unpickle serialized exception\ntraceback: Traceback (most recent call last):\n  File \"/home/robert/git/env/lib/python3.9/site-packages/ray/exceptions.py\", line 46, in from_ray_exception\n    return pickle.loads(ray_exception.serialized_exception)\nTypeError: __init__() missing 1 required positional argument: 'status'\n\nThe above exception was the direct cause of the following exception:\n\nTraceback (most recent call last):\n  File \"/home/robert/git/env/lib/python3.9/site-packages/ray/_private/serialization.py\", line 369, in deserialize_objects\n    obj = self._deserialize_object(data, metadata, object_ref)\n  File \"/home/robert/git/env/lib/python3.9/site-packages/ray/_private/serialization.py\", line 275, in _deserialize_object\n    return RayError.from_bytes(obj)\n  File \"/home/robert/git/env/lib/python3.9/site-packages/ray/exceptions.py\", line 40, in from_bytes\n    return RayError.from_ray_exception(ray_exception)\n  File \"/home/robert/git/env/lib/python3.9/site-packages/ray/exceptions.py\", line 49, in from_ray_exception\n    raise RuntimeError(msg) from e\nRuntimeError: Failed to unpickle serialized exception\n",
     "output_type": "error",
     "traceback": [
      "\u001b[0;31m---------------------------------------------------------------------------\u001b[0m",
      "\u001b[0;31mRaySystemError\u001b[0m                            Traceback (most recent call last)",
      "Cell \u001b[0;32mIn [9], line 5\u001b[0m\n\u001b[1;32m      2\u001b[0m s \u001b[39m=\u001b[39m \u001b[39m\"\u001b[39m\u001b[39m{:3d}\u001b[39;00m\u001b[39m reward \u001b[39m\u001b[39m{:6.2f}\u001b[39;00m\u001b[39m/\u001b[39m\u001b[39m{:6.2f}\u001b[39;00m\u001b[39m/\u001b[39m\u001b[39m{:6.2f}\u001b[39;00m\u001b[39m len \u001b[39m\u001b[39m{:6.2f}\u001b[39;00m\u001b[39m saved \u001b[39m\u001b[39m{}\u001b[39;00m\u001b[39m\"\u001b[39m\n\u001b[1;32m      4\u001b[0m \u001b[39mfor\u001b[39;00m n \u001b[39min\u001b[39;00m \u001b[39mrange\u001b[39m(N_ITER):\n\u001b[0;32m----> 5\u001b[0m     result \u001b[39m=\u001b[39m agent\u001b[39m.\u001b[39;49mtrain()\n\u001b[1;32m      6\u001b[0m     file_name \u001b[39m=\u001b[39m agent\u001b[39m.\u001b[39msave()\n\u001b[1;32m      8\u001b[0m     \u001b[39mprint\u001b[39m(s\u001b[39m.\u001b[39mformat(\n\u001b[1;32m      9\u001b[0m         n \u001b[39m+\u001b[39m \u001b[39m1\u001b[39m,\n\u001b[1;32m     10\u001b[0m         result[\u001b[39m\"\u001b[39m\u001b[39mepisode_reward_min\u001b[39m\u001b[39m\"\u001b[39m],\n\u001b[0;32m   (...)\u001b[0m\n\u001b[1;32m     14\u001b[0m         file_name\n\u001b[1;32m     15\u001b[0m         ))\n",
      "File \u001b[0;32m~/git/env/lib/python3.9/site-packages/ray/tune/trainable/trainable.py:355\u001b[0m, in \u001b[0;36mTrainable.train\u001b[0;34m(self)\u001b[0m\n\u001b[1;32m    353\u001b[0m \u001b[39mexcept\u001b[39;00m \u001b[39mException\u001b[39;00m \u001b[39mas\u001b[39;00m e:\n\u001b[1;32m    354\u001b[0m     skipped \u001b[39m=\u001b[39m skip_exceptions(e)\n\u001b[0;32m--> 355\u001b[0m     \u001b[39mraise\u001b[39;00m skipped \u001b[39mfrom\u001b[39;00m \u001b[39mexception_cause\u001b[39;00m(skipped)\n\u001b[1;32m    357\u001b[0m \u001b[39massert\u001b[39;00m \u001b[39misinstance\u001b[39m(result, \u001b[39mdict\u001b[39m), \u001b[39m\"\u001b[39m\u001b[39mstep() needs to return a dict.\u001b[39m\u001b[39m\"\u001b[39m\n\u001b[1;32m    359\u001b[0m \u001b[39m# We do not modify internal state nor update this result if duplicate.\u001b[39;00m\n",
      "File \u001b[0;32m~/git/env/lib/python3.9/site-packages/ray/tune/trainable/trainable.py:352\u001b[0m, in \u001b[0;36mTrainable.train\u001b[0;34m(self)\u001b[0m\n\u001b[1;32m    350\u001b[0m start \u001b[39m=\u001b[39m time\u001b[39m.\u001b[39mtime()\n\u001b[1;32m    351\u001b[0m \u001b[39mtry\u001b[39;00m:\n\u001b[0;32m--> 352\u001b[0m     result \u001b[39m=\u001b[39m \u001b[39mself\u001b[39;49m\u001b[39m.\u001b[39;49mstep()\n\u001b[1;32m    353\u001b[0m \u001b[39mexcept\u001b[39;00m \u001b[39mException\u001b[39;00m \u001b[39mas\u001b[39;00m e:\n\u001b[1;32m    354\u001b[0m     skipped \u001b[39m=\u001b[39m skip_exceptions(e)\n",
      "File \u001b[0;32m~/git/env/lib/python3.9/site-packages/ray/rllib/algorithms/algorithm.py:772\u001b[0m, in \u001b[0;36mAlgorithm.step\u001b[0;34m(self)\u001b[0m\n\u001b[1;32m    764\u001b[0m     (\n\u001b[1;32m    765\u001b[0m         results,\n\u001b[1;32m    766\u001b[0m         train_iter_ctx,\n\u001b[1;32m    767\u001b[0m     ) \u001b[39m=\u001b[39m \u001b[39mself\u001b[39m\u001b[39m.\u001b[39m_run_one_training_iteration_and_evaluation_in_parallel()\n\u001b[1;32m    768\u001b[0m \u001b[39m# - No evaluation necessary, just run the next training iteration.\u001b[39;00m\n\u001b[1;32m    769\u001b[0m \u001b[39m# - We have to evaluate in this training iteration, but no parallelism ->\u001b[39;00m\n\u001b[1;32m    770\u001b[0m \u001b[39m#   evaluate after the training iteration is entirely done.\u001b[39;00m\n\u001b[1;32m    771\u001b[0m \u001b[39melse\u001b[39;00m:\n\u001b[0;32m--> 772\u001b[0m     results, train_iter_ctx \u001b[39m=\u001b[39m \u001b[39mself\u001b[39;49m\u001b[39m.\u001b[39;49m_run_one_training_iteration()\n\u001b[1;32m    774\u001b[0m \u001b[39m# Sequential: Train (already done above), then evaluate.\u001b[39;00m\n\u001b[1;32m    775\u001b[0m \u001b[39mif\u001b[39;00m evaluate_this_iter \u001b[39mand\u001b[39;00m \u001b[39mnot\u001b[39;00m \u001b[39mself\u001b[39m\u001b[39m.\u001b[39mconfig[\u001b[39m\"\u001b[39m\u001b[39mevaluation_parallel_to_training\u001b[39m\u001b[39m\"\u001b[39m]:\n",
      "File \u001b[0;32m~/git/env/lib/python3.9/site-packages/ray/rllib/algorithms/algorithm.py:2953\u001b[0m, in \u001b[0;36mAlgorithm._run_one_training_iteration\u001b[0;34m(self)\u001b[0m\n\u001b[1;32m   2951\u001b[0m         \u001b[39m# In case of any failures, try to ignore/recover the failed workers.\u001b[39;00m\n\u001b[1;32m   2952\u001b[0m         \u001b[39mexcept\u001b[39;00m \u001b[39mException\u001b[39;00m \u001b[39mas\u001b[39;00m e:\n\u001b[0;32m-> 2953\u001b[0m             num_recreated \u001b[39m+\u001b[39m\u001b[39m=\u001b[39m \u001b[39mself\u001b[39;49m\u001b[39m.\u001b[39;49mtry_recover_from_step_attempt(\n\u001b[1;32m   2954\u001b[0m                 error\u001b[39m=\u001b[39;49me,\n\u001b[1;32m   2955\u001b[0m                 worker_set\u001b[39m=\u001b[39;49m\u001b[39mself\u001b[39;49m\u001b[39m.\u001b[39;49mworkers,\n\u001b[1;32m   2956\u001b[0m                 ignore\u001b[39m=\u001b[39;49m\u001b[39mself\u001b[39;49m\u001b[39m.\u001b[39;49mconfig[\u001b[39m\"\u001b[39;49m\u001b[39mignore_worker_failures\u001b[39;49m\u001b[39m\"\u001b[39;49m],\n\u001b[1;32m   2957\u001b[0m                 recreate\u001b[39m=\u001b[39;49m\u001b[39mself\u001b[39;49m\u001b[39m.\u001b[39;49mconfig[\u001b[39m\"\u001b[39;49m\u001b[39mrecreate_failed_workers\u001b[39;49m\u001b[39m\"\u001b[39;49m],\n\u001b[1;32m   2958\u001b[0m             )\n\u001b[1;32m   2959\u001b[0m     results[\u001b[39m\"\u001b[39m\u001b[39mnum_recreated_workers\u001b[39m\u001b[39m\"\u001b[39m] \u001b[39m=\u001b[39m num_recreated\n\u001b[1;32m   2961\u001b[0m \u001b[39mreturn\u001b[39;00m results, train_iter_ctx\n",
      "File \u001b[0;32m~/git/env/lib/python3.9/site-packages/ray/rllib/algorithms/algorithm.py:2617\u001b[0m, in \u001b[0;36mAlgorithm.try_recover_from_step_attempt\u001b[0;34m(self, error, worker_set, ignore, recreate)\u001b[0m\n\u001b[1;32m   2608\u001b[0m     \u001b[39m# Error out.\u001b[39;00m\n\u001b[1;32m   2609\u001b[0m     \u001b[39melse\u001b[39;00m:\n\u001b[1;32m   2610\u001b[0m         logger\u001b[39m.\u001b[39mwarning(\n\u001b[1;32m   2611\u001b[0m             \u001b[39m\"\u001b[39m\u001b[39mWorker crashed during training or evaluation! \u001b[39m\u001b[39m\"\u001b[39m\n\u001b[1;32m   2612\u001b[0m             \u001b[39m\"\u001b[39m\u001b[39mTo try to continue without failed \u001b[39m\u001b[39m\"\u001b[39m\n\u001b[0;32m   (...)\u001b[0m\n\u001b[1;32m   2615\u001b[0m             \u001b[39m\"\u001b[39m\u001b[39m`recreate_failed_workers=True`.\u001b[39m\u001b[39m\"\u001b[39m\n\u001b[1;32m   2616\u001b[0m         )\n\u001b[0;32m-> 2617\u001b[0m         \u001b[39mraise\u001b[39;00m error\n\u001b[1;32m   2618\u001b[0m \u001b[39m# Any other exception.\u001b[39;00m\n\u001b[1;32m   2619\u001b[0m \u001b[39melse\u001b[39;00m:\n\u001b[1;32m   2620\u001b[0m     \u001b[39m# Allow logs messages to propagate.\u001b[39;00m\n\u001b[1;32m   2621\u001b[0m     time\u001b[39m.\u001b[39msleep(\u001b[39m0.5\u001b[39m)\n",
      "File \u001b[0;32m~/git/env/lib/python3.9/site-packages/ray/rllib/algorithms/algorithm.py:2948\u001b[0m, in \u001b[0;36mAlgorithm._run_one_training_iteration\u001b[0;34m(self)\u001b[0m\n\u001b[1;32m   2946\u001b[0m \u001b[39mwith\u001b[39;00m \u001b[39mself\u001b[39m\u001b[39m.\u001b[39m_timers[TRAINING_ITERATION_TIMER]:\n\u001b[1;32m   2947\u001b[0m     \u001b[39mif\u001b[39;00m \u001b[39mself\u001b[39m\u001b[39m.\u001b[39mconfig[\u001b[39m\"\u001b[39m\u001b[39m_disable_execution_plan_api\u001b[39m\u001b[39m\"\u001b[39m]:\n\u001b[0;32m-> 2948\u001b[0m         results \u001b[39m=\u001b[39m \u001b[39mself\u001b[39;49m\u001b[39m.\u001b[39;49mtraining_step()\n\u001b[1;32m   2949\u001b[0m     \u001b[39melse\u001b[39;00m:\n\u001b[1;32m   2950\u001b[0m         results \u001b[39m=\u001b[39m \u001b[39mnext\u001b[39m(\u001b[39mself\u001b[39m\u001b[39m.\u001b[39mtrain_exec_impl)\n",
      "File \u001b[0;32m~/git/env/lib/python3.9/site-packages/ray/rllib/algorithms/simple_q/simple_q.py:343\u001b[0m, in \u001b[0;36mSimpleQ.training_step\u001b[0;34m(self)\u001b[0m\n\u001b[1;32m    340\u001b[0m local_worker \u001b[39m=\u001b[39m \u001b[39mself\u001b[39m\u001b[39m.\u001b[39mworkers\u001b[39m.\u001b[39mlocal_worker()\n\u001b[1;32m    342\u001b[0m \u001b[39m# Sample n MultiAgentBatches from n workers.\u001b[39;00m\n\u001b[0;32m--> 343\u001b[0m new_sample_batches \u001b[39m=\u001b[39m synchronous_parallel_sample(\n\u001b[1;32m    344\u001b[0m     worker_set\u001b[39m=\u001b[39;49m\u001b[39mself\u001b[39;49m\u001b[39m.\u001b[39;49mworkers, concat\u001b[39m=\u001b[39;49m\u001b[39mFalse\u001b[39;49;00m\n\u001b[1;32m    345\u001b[0m )\n\u001b[1;32m    347\u001b[0m \u001b[39mfor\u001b[39;00m batch \u001b[39min\u001b[39;00m new_sample_batches:\n\u001b[1;32m    348\u001b[0m     \u001b[39m# Update sampling step counters.\u001b[39;00m\n\u001b[1;32m    349\u001b[0m     \u001b[39mself\u001b[39m\u001b[39m.\u001b[39m_counters[NUM_ENV_STEPS_SAMPLED] \u001b[39m+\u001b[39m\u001b[39m=\u001b[39m batch\u001b[39m.\u001b[39menv_steps()\n",
      "File \u001b[0;32m~/git/env/lib/python3.9/site-packages/ray/rllib/execution/rollout_ops.py:100\u001b[0m, in \u001b[0;36msynchronous_parallel_sample\u001b[0;34m(worker_set, max_agent_steps, max_env_steps, concat)\u001b[0m\n\u001b[1;32m     97\u001b[0m     sample_batches \u001b[39m=\u001b[39m [worker_set\u001b[39m.\u001b[39mlocal_worker()\u001b[39m.\u001b[39msample()]\n\u001b[1;32m     98\u001b[0m \u001b[39m# Loop over remote workers' `sample()` method in parallel.\u001b[39;00m\n\u001b[1;32m     99\u001b[0m \u001b[39melse\u001b[39;00m:\n\u001b[0;32m--> 100\u001b[0m     sample_batches \u001b[39m=\u001b[39m ray\u001b[39m.\u001b[39;49mget(\n\u001b[1;32m    101\u001b[0m         [worker\u001b[39m.\u001b[39;49msample\u001b[39m.\u001b[39;49mremote() \u001b[39mfor\u001b[39;49;00m worker \u001b[39min\u001b[39;49;00m worker_set\u001b[39m.\u001b[39;49mremote_workers()]\n\u001b[1;32m    102\u001b[0m     )\n\u001b[1;32m    103\u001b[0m \u001b[39m# Update our counters for the stopping criterion of the while loop.\u001b[39;00m\n\u001b[1;32m    104\u001b[0m \u001b[39mfor\u001b[39;00m b \u001b[39min\u001b[39;00m sample_batches:\n",
      "File \u001b[0;32m~/git/env/lib/python3.9/site-packages/ray/_private/client_mode_hook.py:105\u001b[0m, in \u001b[0;36mclient_mode_hook.<locals>.wrapper\u001b[0;34m(*args, **kwargs)\u001b[0m\n\u001b[1;32m    103\u001b[0m     \u001b[39mif\u001b[39;00m func\u001b[39m.\u001b[39m\u001b[39m__name__\u001b[39m \u001b[39m!=\u001b[39m \u001b[39m\"\u001b[39m\u001b[39minit\u001b[39m\u001b[39m\"\u001b[39m \u001b[39mor\u001b[39;00m is_client_mode_enabled_by_default:\n\u001b[1;32m    104\u001b[0m         \u001b[39mreturn\u001b[39;00m \u001b[39mgetattr\u001b[39m(ray, func\u001b[39m.\u001b[39m\u001b[39m__name__\u001b[39m)(\u001b[39m*\u001b[39margs, \u001b[39m*\u001b[39m\u001b[39m*\u001b[39mkwargs)\n\u001b[0;32m--> 105\u001b[0m \u001b[39mreturn\u001b[39;00m func(\u001b[39m*\u001b[39;49margs, \u001b[39m*\u001b[39;49m\u001b[39m*\u001b[39;49mkwargs)\n",
      "File \u001b[0;32m~/git/env/lib/python3.9/site-packages/ray/_private/worker.py:2291\u001b[0m, in \u001b[0;36mget\u001b[0;34m(object_refs, timeout)\u001b[0m\n\u001b[1;32m   2289\u001b[0m             \u001b[39mraise\u001b[39;00m value\u001b[39m.\u001b[39mas_instanceof_cause()\n\u001b[1;32m   2290\u001b[0m         \u001b[39melse\u001b[39;00m:\n\u001b[0;32m-> 2291\u001b[0m             \u001b[39mraise\u001b[39;00m value\n\u001b[1;32m   2293\u001b[0m \u001b[39mif\u001b[39;00m is_individual_id:\n\u001b[1;32m   2294\u001b[0m     values \u001b[39m=\u001b[39m values[\u001b[39m0\u001b[39m]\n",
      "\u001b[0;31mRaySystemError\u001b[0m: System error: Failed to unpickle serialized exception\ntraceback: Traceback (most recent call last):\n  File \"/home/robert/git/env/lib/python3.9/site-packages/ray/exceptions.py\", line 46, in from_ray_exception\n    return pickle.loads(ray_exception.serialized_exception)\nTypeError: __init__() missing 1 required positional argument: 'status'\n\nThe above exception was the direct cause of the following exception:\n\nTraceback (most recent call last):\n  File \"/home/robert/git/env/lib/python3.9/site-packages/ray/_private/serialization.py\", line 369, in deserialize_objects\n    obj = self._deserialize_object(data, metadata, object_ref)\n  File \"/home/robert/git/env/lib/python3.9/site-packages/ray/_private/serialization.py\", line 275, in _deserialize_object\n    return RayError.from_bytes(obj)\n  File \"/home/robert/git/env/lib/python3.9/site-packages/ray/exceptions.py\", line 40, in from_bytes\n    return RayError.from_ray_exception(ray_exception)\n  File \"/home/robert/git/env/lib/python3.9/site-packages/ray/exceptions.py\", line 49, in from_ray_exception\n    raise RuntimeError(msg) from e\nRuntimeError: Failed to unpickle serialized exception\n"
     ]
    }
   ],
   "source": [
    "N_ITER = 1000\n",
    "s = \"{:3d} reward {:6.2f}/{:6.2f}/{:6.2f} len {:6.2f} saved {}\"\n",
    "\n",
    "for n in range(N_ITER):\n",
    "    result = agent.train()\n",
    "    file_name = agent.save()\n",
    "\n",
    "    print(s.format(\n",
    "        n + 1,\n",
    "        result[\"episode_reward_min\"],\n",
    "        result[\"episode_reward_mean\"],\n",
    "        result[\"episode_reward_max\"],\n",
    "        result[\"episode_len_mean\"],\n",
    "        file_name\n",
    "        ))"
   ]
  },
  {
   "cell_type": "code",
   "execution_count": null,
   "id": "0832fe65",
   "metadata": {},
   "outputs": [
    {
     "ename": "NameError",
     "evalue": "name 'agent' is not defined",
     "output_type": "error",
     "traceback": [
      "\u001b[0;31m---------------------------------------------------------------------------\u001b[0m",
      "\u001b[0;31mNameError\u001b[0m                                 Traceback (most recent call last)",
      "Cell \u001b[0;32mIn [1], line 2\u001b[0m\n\u001b[1;32m      1\u001b[0m \u001b[39m#a = getObservationSpace()\u001b[39;00m\n\u001b[0;32m----> 2\u001b[0m agent\u001b[39m.\u001b[39mcompute_single_action(np\u001b[39m.\u001b[39mfull([\u001b[39m1\u001b[39m,\u001b[39m1001\u001b[39m], \u001b[39m0\u001b[39m, dtype\u001b[39m=\u001b[39mnp\u001b[39m.\u001b[39mfloat32))\n",
      "\u001b[0;31mNameError\u001b[0m: name 'agent' is not defined"
     ]
    }
   ],
   "source": [
    "#a = getObservationSpace()\n",
    "agent.compute_single_action(np.full([1,1001], 0, dtype=np.float32))"
   ]
  },
  {
   "cell_type": "markdown",
   "id": "e6a28231",
   "metadata": {},
   "source": []
  },
  {
   "cell_type": "code",
   "execution_count": null,
   "id": "60795c12",
   "metadata": {},
   "outputs": [],
   "source": [
    "from gym import spaces\n",
    "def getObservationSpace():\n",
    "    low = np.array([-np.inf, -np.inf, -np.inf]).astype(np.float32)\n",
    "    high = np.array([np.inf, np.inf, np.inf]).astype(np.float32)\n",
    "    #self.isDiscrete = False # np.int64 for discrete or np.float32 for cont.\n",
    "#   self.obsType = np.int64 # np.int64 for discrete or np.float32 for cont.\n",
    "    return spaces.Box(low, high)"
   ]
  },
  {
   "cell_type": "code",
   "execution_count": null,
   "id": "e7e15144",
   "metadata": {},
   "outputs": [
    {
     "ename": "AttributeError",
     "evalue": "'TorchNoopModel_as_DDPGTorchModel' object has no attribute 'base_model'",
     "output_type": "error",
     "traceback": [
      "\u001b[0;31m---------------------------------------------------------------------------\u001b[0m",
      "\u001b[0;31mAttributeError\u001b[0m                            Traceback (most recent call last)",
      "Cell \u001b[0;32mIn [11], line 1\u001b[0m\n\u001b[0;32m----> 1\u001b[0m agent\u001b[39m.\u001b[39;49mget_policy()\u001b[39m.\u001b[39;49mmodel\u001b[39m.\u001b[39;49mbase_model\u001b[39m.\u001b[39msummary()\n",
      "File \u001b[0;32m~/git/env/lib/python3.9/site-packages/torch/nn/modules/module.py:1265\u001b[0m, in \u001b[0;36mModule.__getattr__\u001b[0;34m(self, name)\u001b[0m\n\u001b[1;32m   1263\u001b[0m     \u001b[39mif\u001b[39;00m name \u001b[39min\u001b[39;00m modules:\n\u001b[1;32m   1264\u001b[0m         \u001b[39mreturn\u001b[39;00m modules[name]\n\u001b[0;32m-> 1265\u001b[0m \u001b[39mraise\u001b[39;00m \u001b[39mAttributeError\u001b[39;00m(\u001b[39m\"\u001b[39m\u001b[39m'\u001b[39m\u001b[39m{}\u001b[39;00m\u001b[39m'\u001b[39m\u001b[39m object has no attribute \u001b[39m\u001b[39m'\u001b[39m\u001b[39m{}\u001b[39;00m\u001b[39m'\u001b[39m\u001b[39m\"\u001b[39m\u001b[39m.\u001b[39mformat(\n\u001b[1;32m   1266\u001b[0m     \u001b[39mtype\u001b[39m(\u001b[39mself\u001b[39m)\u001b[39m.\u001b[39m\u001b[39m__name__\u001b[39m, name))\n",
      "\u001b[0;31mAttributeError\u001b[0m: 'TorchNoopModel_as_DDPGTorchModel' object has no attribute 'base_model'"
     ]
    }
   ],
   "source": [
    "agent.get_policy().model.base_model.summary()"
   ]
  },
  {
   "cell_type": "code",
   "execution_count": null,
   "id": "e3ab1f08",
   "metadata": {},
   "outputs": [
    {
     "data": {
      "text/plain": [
       "{'default_policy': {'_hidden_layers.0.weight': array([[-0.47284952, -0.6123957 ]], dtype=float32),\n",
       "  '_value_branch._model.0.weight': array([[-0.0009343 ,  0.00995626]], dtype=float32),\n",
       "  '_value_branch._model.0.bias': array([0.], dtype=float32)}}"
      ]
     },
     "execution_count": 6,
     "metadata": {},
     "output_type": "execute_result"
    }
   ],
   "source": [
    "agent2.get_weights()\n"
   ]
  },
  {
   "cell_type": "code",
   "execution_count": null,
   "id": "02a7daab",
   "metadata": {},
   "outputs": [
    {
     "name": "stdout",
     "output_type": "stream",
     "text": [
      "--Return--\n",
      "None\n",
      "> \u001b[0;32m/tmp/ipykernel_66968/4057848078.py\u001b[0m(2)\u001b[0;36m<module>\u001b[0;34m()\u001b[0m\n",
      "\u001b[0;32m      1 \u001b[0;31m\u001b[0;32mimport\u001b[0m \u001b[0mpdb\u001b[0m\u001b[0;34m\u001b[0m\u001b[0;34m\u001b[0m\u001b[0m\n",
      "\u001b[0m\u001b[0;32m----> 2 \u001b[0;31m\u001b[0mpdb\u001b[0m\u001b[0;34m.\u001b[0m\u001b[0mset_trace\u001b[0m\u001b[0;34m(\u001b[0m\u001b[0;34m)\u001b[0m\u001b[0;34m\u001b[0m\u001b[0;34m\u001b[0m\u001b[0m\n",
      "\u001b[0m\u001b[0;32m      3 \u001b[0;31m\u001b[0magent\u001b[0m\u001b[0;34m.\u001b[0m\u001b[0mcompute_single_action\u001b[0m\u001b[0;34m(\u001b[0m\u001b[0;34m[\u001b[0m\u001b[0;36m1\u001b[0m\u001b[0;34m,\u001b[0m\u001b[0;36m1\u001b[0m\u001b[0;34m]\u001b[0m\u001b[0;34m)\u001b[0m\u001b[0;34m\u001b[0m\u001b[0;34m\u001b[0m\u001b[0m\n",
      "\u001b[0m\n"
     ]
    }
   ],
   "source": [
    "import pdb\n",
    "pdb.set_trace()\n",
    "agent.compute_single_action([1,1])"
   ]
  },
  {
   "cell_type": "code",
   "execution_count": null,
   "id": "2d46f992",
   "metadata": {},
   "outputs": [
    {
     "data": {
      "text/plain": [
       "A3CTorchPolicy"
      ]
     },
     "execution_count": 9,
     "metadata": {},
     "output_type": "execute_result"
    }
   ],
   "source": [
    "agent.get_policy()."
   ]
  },
  {
   "cell_type": "code",
   "execution_count": null,
   "id": "eecb1a5f",
   "metadata": {},
   "outputs": [],
   "source": []
  }
 ],
 "metadata": {
  "kernelspec": {
   "display_name": "Python 3.9.15",
   "language": "python",
   "name": "python3"
  },
  "language_info": {
   "codemirror_mode": {
    "name": "ipython",
    "version": 3
   },
   "file_extension": ".py",
   "mimetype": "text/x-python",
   "name": "python",
   "nbconvert_exporter": "python",
   "pygments_lexer": "ipython3",
   "version": "3.9.15"
  },
  "vscode": {
   "interpreter": {
    "hash": "8a7e96d51479e192f437693b69736ebafa6e31b8e0eb2319a92624b7e7440c0a"
   }
  }
 },
 "nbformat": 4,
 "nbformat_minor": 5
}
