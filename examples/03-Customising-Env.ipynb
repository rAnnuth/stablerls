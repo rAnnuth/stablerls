{
 "cells": [
  {
   "attachments": {},
   "cell_type": "markdown",
   "metadata": {},
   "source": [
    "## Customising the environment class - Actions and Observations\n",
    "\n",
    "For more complex systems (and therefore simulink models) the definition of other action and observation spaces are very useful tools. Also, there can be inputs which are external but not controlled by the agent. In the following example this will be shown for an example from the area of energy systems.\n",
    "\n",
    "As example, the energy managenment of a DC microgrid is chosen. The microgrid consist of a PV array, a battery storage, a load and a grid connection. The corresponding simulink file (MicrogridExample.slx) and the necessary simscape-files (shortCircuit.ssc, VariablePowerLoad.ssc and Wire_2Cond.ssc) are included. The control/optimisation task for a RL agent will be described in detail in the next examples. The main idea is to optimise the use of the battery storage to minimise the energy consuption from the main grid and maximise the use of the PV energy.\n",
    "\n",
    "As first step, the config-file is read and a FMU is generated."
   ]
  },
  {
   "cell_type": "code",
   "execution_count": 2,
   "metadata": {},
   "outputs": [],
   "source": [
    "# import packages as in the other examples\n",
    "import stablerls.gymFMU as gymFMU\n",
    "import stablerls.configreader as cfg_reader\n",
    "import stablerls.createFMU as createFMU\n",
    "import numpy as np\n",
    "import logging\n",
    "\n",
    "# normally we dont recommend the info-logging but here it is used for demonstration\n",
    "logging.basicConfig(level=logging.INFO)\n",
    "\n",
    "# read config-file\n",
    "config = cfg_reader.configreader('03-config.cfg')\n",
    "\n",
    "# create FMU\n",
    "createFMU.createFMU(config,'MicrogridExample.slx')"
   ]
  },
  {
   "attachments": {},
   "cell_type": "markdown",
   "metadata": {},
   "source": [
    "After the generation of the FMU, an instance of the corresponding gymnasium environment is created. Because information logging is active, all in- and outputs are listed."
   ]
  },
  {
   "cell_type": "code",
   "execution_count": 3,
   "metadata": {},
   "outputs": [
    {
     "name": "stderr",
     "output_type": "stream",
     "text": [
      "INFO:stablerls.fmutools:Using: 03-MicrogridFMU.fmu\n",
      "INFO:stablerls.fmutools:Unzipped in C:\\Users\\cfn2169\\AppData\\Local\\Temp\\tmp26x8vtxg\n",
      "INFO:stablerls.fmutools:Found inputs - access them by the corresponding number:\n",
      "INFO:stablerls.fmutools: 0: Control.InptPV.ModuleTemperature.ModuleTemperature\n",
      "INFO:stablerls.fmutools: 1: Control.InptPV.Irradiance.Irradiance\n",
      "INFO:stablerls.fmutools: 2: Control.InptLoad.LoadPower\n",
      "INFO:stablerls.fmutools: 3: Control.InptBattery.VoltageReference\n",
      "INFO:stablerls.fmutools: 4: Control.InptBattery.SOC_Init\n",
      "INFO:stablerls.fmutools: 5: Control.InptGrid.VoltageReference\n",
      "INFO:stablerls.fmutools:Found outputs - access them by the corresponding number:\n",
      "INFO:stablerls.fmutools: 0: Measurement.PV.V\n",
      "INFO:stablerls.fmutools: 1: Measurement.PV.P\n",
      "INFO:stablerls.fmutools: 2: Measurement.PV.I\n",
      "INFO:stablerls.fmutools: 3: Measurement.Grid.V\n",
      "INFO:stablerls.fmutools: 4: Measurement.Grid.P\n",
      "INFO:stablerls.fmutools: 5: Measurement.Grid.I\n",
      "INFO:stablerls.fmutools: 6: Measurement.Load.V\n",
      "INFO:stablerls.fmutools: 7: Measurement.Load.I\n",
      "INFO:stablerls.fmutools: 8: Measurement.Battery.Pbat\n",
      "INFO:stablerls.fmutools: 9: Measurement.Battery.Vbat\n",
      "INFO:stablerls.fmutools: 10: Measurement.Battery.Ibat\n",
      "INFO:stablerls.fmutools: 11: Measurement.Battery.SOC\n",
      "INFO:stablerls.fmutools: 12: Measurement.Battery.Inet\n",
      "INFO:stablerls.fmutools: 13: Measurement.Battery.Vnet\n"
     ]
    }
   ],
   "source": [
    "# create instance of the model\n",
    "env = gymFMU.StableRLS(config)"
   ]
  },
  {
   "attachments": {},
   "cell_type": "markdown",
   "metadata": {},
   "source": [
    "A look at the input list shows that only some of them shall be controlled by the agent while others depend on environmental parameters like the actual weather or are fixed system parameters. In this example, only the voltage references for grid and battery converters are to be controlled. For irradiance and module temperature for the PV module model real data from an external source is imported. The values for the initial SOC at the start of a training episode are randomised to cover many possible scenarios. For the reference voltages, only discrete steps shall be possible, so two discrete actions with 11 possible states each are defined in the action space. During the action assignment, they are converted into reference steps between -0.4 and 0.4 V.\n",
    "\n",
    "Additionally, 13 outputs are a lot and not necessary for the agent since some of them contain similiar information. Knowledge about the voltages and source currents as well as the battery SOC is enough. This results in 8 observations which are continous, but can only take limited values wich will be normalised to values between +-1 in the ovbservation processing.\n",
    "\n",
    "Therefore, the spaces needs to modified. For this, a new class is defined which is inherited from the StableRLS base class and the corresponding setter methods are overriden. In addition to the setter methods, the methods for assignment of the actions and the observation processing are overridden."
   ]
  },
  {
   "cell_type": "code",
   "execution_count": 4,
   "metadata": {},
   "outputs": [],
   "source": [
    "import stablerls.gymFMU as gymFMU\n",
    "import stablerls.configreader as cfg_reader\n",
    "import stablerls.createFMU as createFMU\n",
    "import gymnasium as gym\n",
    "import numpy as np\n",
    "import logging\n",
    "import random\n",
    "\n",
    "logger = logging.getLogger(__name__)\n",
    "\n",
    "class GridEnv(gymFMU.StableRLS):\n",
    "    def set_action_space(self):\n",
    "        \"\"\"Setter function for the action space of the agent. \n",
    "        This function overrides the base implementation of StableRLS to \n",
    "        choose only certain inputs as actions.\n",
    "\n",
    "        Returns\n",
    "        -------\n",
    "        space : gymnasium.space\n",
    "            Returns the action space defined by specified FMU inputs\n",
    "        \"\"\"\n",
    "        return gym.spaces.MultiDiscrete([11, 11])\n",
    "    \n",
    "    def set_observation_space(self):\n",
    "        \"\"\"Setter function for the observation space of the agent. \n",
    "        This function overrides the base implementation of StableRLS to \n",
    "        choose only certain outputs as observations.\n",
    "\n",
    "        Returns\n",
    "        -------\n",
    "        space : gymnasium.space\n",
    "            Returns the observation space defined by specified FMU outputs\n",
    "        \"\"\"\n",
    "        high = np.arange(8).astype(np.float32)\n",
    "        high[:] = 1\n",
    "        low = high * -1\n",
    "        return gym.spaces.Box(low, high)\n",
    "    \n",
    "    def assignAction(self, action):\n",
    "        \"\"\"Changed assignment of actions to the FMU because only certain inputs\n",
    "        are used for the agent actions.\n",
    "\n",
    "        Parameters\n",
    "        ----------\n",
    "        action : list\n",
    "            An action provided by the agent to update the environment state.\n",
    "        \"\"\"\n",
    "        # assign actions to inputs\n",
    "        # check if actions are within action space\n",
    "        if not self.action_space.contains(action):\n",
    "            logger.info(f\"The actions are not within the action space. Action: {action}. Time: {self.time}\")\n",
    "\n",
    "        # convert discrete actions into steps of voltage references\n",
    "        vStepGrid = (action[0] - 5) * 0.04    \n",
    "        vStepBat = (action[1] - 5) * 0.04\n",
    "\n",
    "        # add them to actual references to get new setpoints\n",
    "        vRefGrid = self.fmu.fmu.getReal([self.fmu.input[3].valueReference])[0] + vStepGrid  \n",
    "        vRefBat = self.fmu.fmu.getReal([self.fmu.input[5].valueReference])[0] + vStepBat\n",
    "\n",
    "        # assign actions to the FMU inputs - take care of right indices!\n",
    "        self.fmu.fmu.setReal([self.fmu.input[3].valueReference], [vRefGrid])\n",
    "        self.fmu.fmu.setReal([self.fmu.input[5].valueReference], [vRefBat])\n",
    "\n",
    "    def obs_processing(self, raw_obs):\n",
    "        \"\"\"Customised action processing: Only specific outputs are evaluated. Additionally,\n",
    "        they are normalised to +-1.\n",
    "\n",
    "        Parameters\n",
    "        ----------\n",
    "        raw_obs : ObsType\n",
    "            The raw observation defined by all FMU outputs.\n",
    "        Returns\n",
    "        -------\n",
    "        observation : ObsType\n",
    "            The processed observation for the agent.\n",
    "        \"\"\"\n",
    "\n",
    "        nDec = 2\n",
    "        observation = np.array([  round((raw_obs[0] - self.nominal_voltage) / (0.1*self.nominal_voltage), 2),   # PV.V\n",
    "                                  round((raw_obs[3] - self.nominal_voltage) / (0.1*self.nominal_voltage), 2),   # Grid.V                     \n",
    "                                  round((raw_obs[6] - self.nominal_voltage) / (0.1*self.nominal_voltage), 2),   # Load.V\n",
    "                                  round((raw_obs[13] - self.nominal_voltage) / (0.1*self.nominal_voltage), 2),  # Bat.V  \n",
    "                                  round(raw_obs[2] / self.nominal_current, 2),                                  # PV.I\n",
    "                                  round(raw_obs[5] / self.nominal_current, 2),                                  # Grid.I\n",
    "                                  round(raw_obs[12] / self.nominal_current, 2),                                 # Bat.Inet\n",
    "                                  round(raw_obs[11], nDec),                                                     # Bat.SOC\n",
    "                               ]).astype(np.float32)\n",
    "\n",
    "        return observation\n",
    "    \n",
    "    def reset_(self, seed=None):\n",
    "        \"\"\"Since zeros make no sense for the voltage references, the input reset is\n",
    "        changed. Also, the initial SOC is chosen randomly between limits.\n",
    "\n",
    "        Parameters\n",
    "        ----------\n",
    "        seed : int, optional\n",
    "            - None -\n",
    "        \"\"\"\n",
    "        # set voltage references to nominal voltage\n",
    "        self.fmu.fmu.setReal([self.fmu.input[3].valueReference], [self.nominal_voltage])\n",
    "        self.fmu.fmu.setReal([self.fmu.input[5].valueReference], [self.nominal_voltage])\n",
    "\n",
    "        # set initial SOC, randomly chosen\n",
    "        rand = random.random()\n",
    "        if rand < 0.15:\n",
    "            self.soc_init = 0.15\n",
    "        elif rand > 0.85:\n",
    "            self.soc_init = 0.85\n",
    "        else:\n",
    "            self.soc_init = rand \n",
    "        self.fmu.fmu.setReal([self.fmu.input[4].valueReference], [self.soc_init])\n",
    "\n",
    "        # all other inputs are set during the calculation of the first step\n",
    "        # get the first observation as specified by gymnaisum\n",
    "        self._next_observation(steps=1)\n",
    "        return self.obs_processing(self.outputs[self.step_count, :])\n",
    "\n",
    "    def FMU_external_input(self):\n",
    "        \"\"\"This function is called before each FMU step. Here external FMU\n",
    "        inputs independent of the agent action are set. In this case, this includes\n",
    "        weather data and the load power.\n",
    "\n",
    "        Use the code below to access the FMU inputs.\n",
    "        self.fmu.fmu.setReal([self.fmu.input[0].valueReference], [value])\n",
    "        \"\"\"\n",
    "        # Irradiance\n",
    "        self.fmu.fmu.setReal([self.fmu.input[1].valueReference], [1000.0])\n",
    "\n",
    "        # ModuleTemperature\n",
    "        self.fmu.fmu.setReal([self.fmu.input[0].valueReference], [30.0])\n",
    "\n",
    "        # LoadPower\n",
    "        self.fmu.fmu.setReal([self.fmu.input[2].valueReference], [500.0])\n"
   ]
  },
  {
   "cell_type": "code",
   "execution_count": 5,
   "metadata": {},
   "outputs": [
    {
     "name": "stderr",
     "output_type": "stream",
     "text": [
      "INFO:stablerls.fmutools:Using: 03-MicrogridFMU.fmu\n",
      "INFO:stablerls.fmutools:Unzipped in C:\\Users\\cfn2169\\AppData\\Local\\Temp\\tmpm742yhx2\n",
      "INFO:stablerls.fmutools:Found inputs - access them by the corresponding number:\n",
      "INFO:stablerls.fmutools: 0: Control.InptPV.ModuleTemperature.ModuleTemperature\n",
      "INFO:stablerls.fmutools: 1: Control.InptPV.Irradiance.Irradiance\n",
      "INFO:stablerls.fmutools: 2: Control.InptLoad.LoadPower\n",
      "INFO:stablerls.fmutools: 3: Control.InptBattery.VoltageReference\n",
      "INFO:stablerls.fmutools: 4: Control.InptBattery.SOC_Init\n",
      "INFO:stablerls.fmutools: 5: Control.InptGrid.VoltageReference\n",
      "INFO:stablerls.fmutools:Found outputs - access them by the corresponding number:\n",
      "INFO:stablerls.fmutools: 0: Measurement.PV.V\n",
      "INFO:stablerls.fmutools: 1: Measurement.PV.P\n",
      "INFO:stablerls.fmutools: 2: Measurement.PV.I\n",
      "INFO:stablerls.fmutools: 3: Measurement.Grid.V\n",
      "INFO:stablerls.fmutools: 4: Measurement.Grid.P\n",
      "INFO:stablerls.fmutools: 5: Measurement.Grid.I\n",
      "INFO:stablerls.fmutools: 6: Measurement.Load.V\n",
      "INFO:stablerls.fmutools: 7: Measurement.Load.I\n",
      "INFO:stablerls.fmutools: 8: Measurement.Battery.Pbat\n",
      "INFO:stablerls.fmutools: 9: Measurement.Battery.Vbat\n",
      "INFO:stablerls.fmutools: 10: Measurement.Battery.Ibat\n",
      "INFO:stablerls.fmutools: 11: Measurement.Battery.SOC\n",
      "INFO:stablerls.fmutools: 12: Measurement.Battery.Inet\n",
      "INFO:stablerls.fmutools: 13: Measurement.Battery.Vnet\n"
     ]
    }
   ],
   "source": [
    "# normally we dont recommend the info-logging but here it is used for demonstration\n",
    "logging.basicConfig(level=logging.INFO)\n",
    "\n",
    "# read config-file\n",
    "config = cfg_reader.configreader('03-config.cfg')\n",
    "\n",
    "microgrid = GridEnv(config)\n",
    "obs = microgrid.reset()"
   ]
  },
  {
   "cell_type": "code",
   "execution_count": 6,
   "metadata": {},
   "outputs": [
    {
     "data": {
      "text/plain": [
       "array([[ 4.75223920e+001,  0.00000000e+000,  0.00000000e+000, ...,\n",
       "         3.72589136e-001,  2.84983592e-008,  4.75223920e+001],\n",
       "       [ 1.68582899e-226, -2.23356322e+301,  9.54158577e+282, ...,\n",
       "        -5.63672348e-293,  2.17013612e+170,  1.22293563e+104],\n",
       "       [ 1.05613619e+027, -2.67847553e-309, -2.00742120e+194, ...,\n",
       "         1.05809679e-309,              nan, -2.69441172e-309],\n",
       "       ...,\n",
       "       [ 2.86811255e-101, -3.90023547e-309, -1.33663897e+241, ...,\n",
       "        -7.57624203e-281,  3.12433725e-041, -3.91003909e-309],\n",
       "       [             nan,              nan,  7.29111787e-304, ...,\n",
       "        -3.91831481e-309,  4.46014625e+043, -3.09023615e-254],\n",
       "       [-2.14529163e-166,  5.96580767e-153, -5.90881520e+001, ...,\n",
       "         8.22751716e+062, -7.19501673e-264,  4.17289264e+096]])"
      ]
     },
     "execution_count": 6,
     "metadata": {},
     "output_type": "execute_result"
    }
   ],
   "source": [
    "microgrid.outputs"
   ]
  },
  {
   "cell_type": "code",
   "execution_count": 4,
   "metadata": {},
   "outputs": [
    {
     "ename": "NameError",
     "evalue": "name 'action' is not defined",
     "output_type": "error",
     "traceback": [
      "\u001b[1;31m---------------------------------------------------------------------------\u001b[0m",
      "\u001b[1;31mNameError\u001b[0m                                 Traceback (most recent call last)",
      "Cell \u001b[1;32mIn[4], line 1\u001b[0m\n\u001b[1;32m----> 1\u001b[0m observation, reward, terminated, truncated, info  \u001b[39m=\u001b[39m microgrid\u001b[39m.\u001b[39mstep(action)\n",
      "\u001b[1;31mNameError\u001b[0m: name 'action' is not defined"
     ]
    }
   ],
   "source": [
    "observation, reward, terminated, truncated, info  = microgrid.step(action)"
   ]
  },
  {
   "cell_type": "code",
   "execution_count": 4,
   "metadata": {},
   "outputs": [
    {
     "ename": "",
     "evalue": "",
     "output_type": "error",
     "traceback": [
      "\u001b[1;31mCanceled future for execute_request message before replies were done"
     ]
    },
    {
     "ename": "",
     "evalue": "",
     "output_type": "error",
     "traceback": [
      "\u001b[1;31mThe Kernel crashed while executing code in the the current cell or a previous cell. Please review the code in the cell(s) to identify a possible cause of the failure. Click <a href='https://aka.ms/vscodeJupyterKernelCrash'>here</a> for more info. View Jupyter <a href='command:jupyter.viewOutput'>log</a> for further details."
     ]
    }
   ],
   "source": [
    "\n",
    "\n",
    "# we wont change the action \n",
    "\n",
    "\n",
    "terminated = False\n",
    "truncated = False\n",
    "while not (terminated or truncated):\n",
    "    \n",
    "    print(f'Action: {action}\\nObservation: {observation}\\nReward: {reward}\\n')\n",
    "        \n",
    "microgrid.close()"
   ]
  },
  {
   "cell_type": "code",
   "execution_count": null,
   "metadata": {},
   "outputs": [],
   "source": []
  }
 ],
 "metadata": {
  "kernelspec": {
   "display_name": "Python 3",
   "language": "python",
   "name": "python3"
  },
  "language_info": {
   "codemirror_mode": {
    "name": "ipython",
    "version": 3
   },
   "file_extension": ".py",
   "mimetype": "text/x-python",
   "name": "python",
   "nbconvert_exporter": "python",
   "pygments_lexer": "ipython3",
   "version": "3.9.16"
  },
  "orig_nbformat": 4
 },
 "nbformat": 4,
 "nbformat_minor": 2
}
