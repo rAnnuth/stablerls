{
 "cells": [
  {
   "cell_type": "code",
   "execution_count": 22,
   "id": "5fb619ab",
   "metadata": {},
   "outputs": [
    {
     "name": "stdout",
     "output_type": "stream",
     "text": [
      "The autoreload extension is already loaded. To reload it, use:\n",
      "  %reload_ext autoreload\n"
     ]
    },
    {
     "data": {
      "text/plain": [
       "{'DEFAULT': {},\n",
       " 'General': {'DEBUG': False, 'LOG': False, 'Href': 10},\n",
       " 'FMU': {'fmuPath': '../../matlab/03-Watertank/rlwatertank.fmu',\n",
       "  'startTime': 0,\n",
       "  'stopTime': 10,\n",
       "  'tolerance': 1e-06,\n",
       "  'createFMU': False,\n",
       "  'dt': 0.01},\n",
       " 'Reinforcement Learning': {'actionInterval': 10000000},\n",
       " 'Ray': {'num_workers': 20,\n",
       "  'num_gpus': 1,\n",
       "  'ignore_worker_failures': False,\n",
       "  'recreate_failed_workers': False,\n",
       "  'framework': 'torch'},\n",
       " 'Environment': {},\n",
       " 'Reward': {}}"
      ]
     },
     "execution_count": 22,
     "metadata": {},
     "output_type": "execute_result"
    }
   ],
   "source": [
    "%load_ext autoreload\n",
    "%autoreload 2\n",
    "import fmuSimulation.gymFMUchecker as gymFMUChecker\n",
    "\n",
    "import os\n",
    "from fmuSimulation.configReader import configReader\n",
    "import numpy as np\n",
    "import sys\n",
    "import matplotlib.pyplot as plt\n",
    "\n",
    "config = os.path.abspath('Example.cfg')\n",
    "cfg = configReader(config)\n",
    "config = cfg.getMulti(cfg.getSections())\n",
    "config"
   ]
  },
  {
   "cell_type": "code",
   "execution_count": 23,
   "id": "83efa5a0",
   "metadata": {},
   "outputs": [
    {
     "name": "stdout",
     "output_type": "stream",
     "text": [
      "Incompatible sample time and stop time.\n",
      " Using 10.0 as stop time instead\n",
      "Incompatible sample time and action interval.\n",
      " Using 10000000.0 as interval instead\n"
     ]
    }
   ],
   "source": [
    "if False:\n",
    "    from fmuSimulation.createFMU import createFMU\n",
    "    createFMU(config)\n",
    "env = gymFMUChecker.FMUchecker(config)"
   ]
  },
  {
   "cell_type": "code",
   "execution_count": 24,
   "id": "111b8bea",
   "metadata": {},
   "outputs": [
    {
     "data": {
      "text/plain": [
       "[ScalarVariable(name='Control.Kidmy', type='Real', clocks=[], dimensions=[], dimensionValueReferences=[]),\n",
       " ScalarVariable(name='Control.Kpdmy', type='Real', clocks=[], dimensions=[], dimensionValueReferences=[]),\n",
       " ScalarVariable(name='Control.uctrl', type='Real', clocks=[], dimensions=[], dimensionValueReferences=[]),\n",
       " ScalarVariable(name='Control.ref', type='Real', clocks=[], dimensions=[], dimensionValueReferences=[])]"
      ]
     },
     "execution_count": 24,
     "metadata": {},
     "output_type": "execute_result"
    }
   ],
   "source": [
    "env.fmu.getInput()\n"
   ]
  },
  {
   "cell_type": "code",
   "execution_count": 25,
   "id": "1bfa86bf",
   "metadata": {},
   "outputs": [
    {
     "data": {
      "text/plain": [
       "[ScalarVariable(name='Measurement.height', type='Real', clocks=[], dimensions=[], dimensionValueReferences=[]),\n",
       " ScalarVariable(name='Measurement.error', type='Real', clocks=[], dimensions=[], dimensionValueReferences=[]),\n",
       " ScalarVariable(name='Measurement.errorIntegral', type='Real', clocks=[], dimensions=[], dimensionValueReferences=[])]"
      ]
     },
     "execution_count": 25,
     "metadata": {},
     "output_type": "execute_result"
    }
   ],
   "source": [
    "env.fmu.getOutput()\n"
   ]
  },
  {
   "cell_type": "code",
   "execution_count": 26,
   "id": "26c44cd8",
   "metadata": {},
   "outputs": [
    {
     "name": "stdout",
     "output_type": "stream",
     "text": [
      "Kp: 1.0\n",
      " Ki: 0.0\n",
      " -100.01061248779297\n",
      "\n",
      "Kp: 1.0\n",
      " Ki: 3.3333333333333335\n",
      " -107.46145629882812\n",
      "\n",
      "Kp: 1.0\n",
      " Ki: 6.666666666666667\n",
      " -449.0855712890625\n",
      "\n",
      "Kp: 1.0\n",
      " Ki: 10.0\n",
      " -303.5432434082031\n",
      "\n",
      "Kp: 1.0\n",
      " Ki: 13.333333333333334\n",
      " -371.50469970703125\n",
      "\n",
      "Kp: 1.0\n",
      " Ki: 16.666666666666668\n",
      " -229.78466796875\n",
      "\n",
      "Kp: 1.0\n",
      " Ki: 20.0\n",
      " -545.6051025390625\n",
      "\n",
      "Kp: 1.0\n",
      " Ki: 23.333333333333336\n",
      " -244.1911163330078\n",
      "\n",
      "Kp: 1.0\n",
      " Ki: 26.666666666666668\n",
      " -776.1192626953125\n",
      "\n",
      "Kp: 1.0\n",
      " Ki: 30.0\n",
      " -383.6737060546875\n",
      "\n",
      "Kp: 6.444444444444445\n",
      " Ki: 0.0\n",
      " -115.73626708984375\n",
      "\n",
      "Kp: 6.444444444444445\n",
      " Ki: 3.3333333333333335\n",
      " -33.555419921875\n",
      "\n",
      "Kp: 6.444444444444445\n",
      " Ki: 6.666666666666667\n",
      " -55.41039276123047\n",
      "\n",
      "Kp: 6.444444444444445\n",
      " Ki: 10.0\n",
      " -2.931464195251465\n",
      "\n",
      "Kp: 6.444444444444445\n",
      " Ki: 13.333333333333334\n",
      " -173.92706298828125\n",
      "\n",
      "Kp: 6.444444444444445\n",
      " Ki: 16.666666666666668\n",
      " -51.56025695800781\n",
      "\n",
      "Kp: 6.444444444444445\n",
      " Ki: 20.0\n",
      " -138.8111114501953\n",
      "\n",
      "Kp: 6.444444444444445\n",
      " Ki: 23.333333333333336\n",
      " -53.516822814941406\n",
      "\n",
      "Kp: 6.444444444444445\n",
      " Ki: 26.666666666666668\n",
      " -67.75971221923828\n",
      "\n",
      "Kp: 6.444444444444445\n",
      " Ki: 30.0\n",
      " -49.83826446533203\n",
      "\n",
      "Kp: 11.88888888888889\n",
      " Ki: 0.0\n",
      " -56.23908233642578\n",
      "\n",
      "Kp: 11.88888888888889\n",
      " Ki: 3.3333333333333335\n",
      " -46.5064697265625\n",
      "\n",
      "Kp: 11.88888888888889\n",
      " Ki: 6.666666666666667\n",
      " -72.83779907226562\n",
      "\n",
      "Kp: 11.88888888888889\n",
      " Ki: 10.0\n",
      " -75.42066192626953\n",
      "\n",
      "Kp: 11.88888888888889\n",
      " Ki: 13.333333333333334\n",
      " -41.024505615234375\n",
      "\n",
      "Kp: 11.88888888888889\n",
      " Ki: 16.666666666666668\n",
      " -43.7336540222168\n",
      "\n",
      "Kp: 11.88888888888889\n",
      " Ki: 20.0\n",
      " -0.2653404176235199\n",
      "\n",
      "Kp: 11.88888888888889\n",
      " Ki: 23.333333333333336\n",
      " -9.902435302734375\n",
      "\n",
      "Kp: 11.88888888888889\n",
      " Ki: 26.666666666666668\n",
      " -44.553932189941406\n",
      "\n",
      "Kp: 11.88888888888889\n",
      " Ki: 30.0\n",
      " -23.613401412963867\n",
      "\n",
      "Kp: 17.333333333333336\n",
      " Ki: 0.0\n",
      " -0.03519267588853836\n",
      "\n",
      "Kp: 17.333333333333336\n",
      " Ki: 3.3333333333333335\n",
      " -111.60379028320312\n",
      "\n",
      "Kp: 17.333333333333336\n",
      " Ki: 6.666666666666667\n",
      " -58.236568450927734\n",
      "\n",
      "Kp: 17.333333333333336\n",
      " Ki: 10.0\n",
      " -26.115673065185547\n",
      "\n",
      "Kp: 17.333333333333336\n",
      " Ki: 13.333333333333334\n",
      " -107.75593566894531\n",
      "\n",
      "Kp: 17.333333333333336\n",
      " Ki: 16.666666666666668\n",
      " -66.55221557617188\n",
      "\n",
      "Kp: 17.333333333333336\n",
      " Ki: 20.0\n",
      " -104.24532318115234\n",
      "\n",
      "Kp: 17.333333333333336\n",
      " Ki: 23.333333333333336\n",
      " -91.27996826171875\n",
      "\n",
      "Kp: 17.333333333333336\n",
      " Ki: 26.666666666666668\n",
      " -72.47917175292969\n",
      "\n",
      "Kp: 17.333333333333336\n",
      " Ki: 30.0\n",
      " -268.437744140625\n",
      "\n",
      "Kp: 22.77777777777778\n",
      " Ki: 0.0\n",
      " -38.840702056884766\n",
      "\n",
      "Kp: 22.77777777777778\n",
      " Ki: 3.3333333333333335\n",
      " -74.09640502929688\n",
      "\n",
      "Kp: 22.77777777777778\n",
      " Ki: 6.666666666666667\n",
      " -35.3944091796875\n",
      "\n",
      "Kp: 22.77777777777778\n",
      " Ki: 10.0\n",
      " -33.81235122680664\n",
      "\n",
      "Kp: 22.77777777777778\n",
      " Ki: 13.333333333333334\n",
      " -55.73310852050781\n",
      "\n",
      "Kp: 22.77777777777778\n",
      " Ki: 16.666666666666668\n",
      " -2.9416909217834473\n",
      "\n",
      "Kp: 22.77777777777778\n",
      " Ki: 20.0\n",
      " -242.42095947265625\n",
      "\n",
      "Kp: 22.77777777777778\n",
      " Ki: 23.333333333333336\n",
      " -47.74199676513672\n",
      "\n",
      "Kp: 22.77777777777778\n",
      " Ki: 26.666666666666668\n",
      " -122.26372528076172\n",
      "\n",
      "inf observation\n",
      "Kp: 22.77777777777778\n",
      " Ki: 30.0\n",
      " nan\n",
      "\n",
      "Kp: 28.22222222222222\n",
      " Ki: 0.0\n",
      " -15.328465461730957\n",
      "\n",
      "Kp: 28.22222222222222\n",
      " Ki: 3.3333333333333335\n",
      " -76.65813446044922\n",
      "\n",
      "Kp: 28.22222222222222\n",
      " Ki: 6.666666666666667\n",
      " -114.18407440185547\n",
      "\n",
      "Kp: 28.22222222222222\n",
      " Ki: 10.0\n",
      " -222.79669189453125\n",
      "\n",
      "Kp: 28.22222222222222\n",
      " Ki: 13.333333333333334\n",
      " -296.2364501953125\n",
      "\n",
      "Kp: 28.22222222222222\n",
      " Ki: 16.666666666666668\n",
      " -202.9060516357422\n",
      "\n",
      "Kp: 28.22222222222222\n",
      " Ki: 20.0\n",
      " -139.53082275390625\n",
      "\n",
      "Kp: 28.22222222222222\n",
      " Ki: 23.333333333333336\n",
      " -169.5406951904297\n",
      "\n",
      "Kp: 28.22222222222222\n",
      " Ki: 26.666666666666668\n",
      " -30.068925857543945\n",
      "\n",
      "Kp: 28.22222222222222\n",
      " Ki: 30.0\n",
      " -0.7704132795333862\n",
      "\n",
      "Kp: 33.66666666666667\n",
      " Ki: 0.0\n",
      " -120.67390441894531\n",
      "\n",
      "Kp: 33.66666666666667\n",
      " Ki: 3.3333333333333335\n",
      " -71.89226531982422\n",
      "\n",
      "Kp: 33.66666666666667\n",
      " Ki: 6.666666666666667\n",
      " -104.83696746826172\n",
      "\n",
      "Kp: 33.66666666666667\n",
      " Ki: 10.0\n",
      " -130.31227111816406\n",
      "\n",
      "Kp: 33.66666666666667\n",
      " Ki: 13.333333333333334\n",
      " -182.33987426757812\n",
      "\n",
      "Kp: 33.66666666666667\n",
      " Ki: 16.666666666666668\n",
      " -72.47201538085938\n",
      "\n",
      "Kp: 33.66666666666667\n",
      " Ki: 20.0\n",
      " -5.2505059242248535\n",
      "\n",
      "Kp: 33.66666666666667\n",
      " Ki: 23.333333333333336\n",
      " -51.492801666259766\n",
      "\n",
      "Kp: 33.66666666666667\n",
      " Ki: 26.666666666666668\n",
      " -70.01068878173828\n",
      "\n",
      "Kp: 33.66666666666667\n",
      " Ki: 30.0\n",
      " -185.89952087402344\n",
      "\n",
      "Kp: 39.111111111111114\n",
      " Ki: 0.0\n",
      " -149.7720947265625\n",
      "\n",
      "Kp: 39.111111111111114\n",
      " Ki: 3.3333333333333335\n",
      " -141.2491912841797\n",
      "\n",
      "Kp: 39.111111111111114\n",
      " Ki: 6.666666666666667\n",
      " -5.393796443939209\n",
      "\n",
      "Kp: 39.111111111111114\n",
      " Ki: 10.0\n",
      " -3.3414723873138428\n",
      "\n",
      "Kp: 39.111111111111114\n",
      " Ki: 13.333333333333334\n",
      " -9.06091022491455\n",
      "\n",
      "Kp: 39.111111111111114\n",
      " Ki: 16.666666666666668\n",
      " -330.1283264160156\n",
      "\n",
      "Kp: 39.111111111111114\n",
      " Ki: 20.0\n",
      " -111.43643188476562\n",
      "\n",
      "Kp: 39.111111111111114\n",
      " Ki: 23.333333333333336\n",
      " -35.092567443847656\n",
      "\n",
      "Kp: 39.111111111111114\n",
      " Ki: 26.666666666666668\n",
      " -86.35380554199219\n",
      "\n",
      "Kp: 39.111111111111114\n",
      " Ki: 30.0\n",
      " -18.793254852294922\n",
      "\n",
      "Kp: 44.55555555555556\n",
      " Ki: 0.0\n",
      " -249.6762237548828\n",
      "\n",
      "Kp: 44.55555555555556\n",
      " Ki: 3.3333333333333335\n",
      " -57.10914611816406\n",
      "\n",
      "Kp: 44.55555555555556\n",
      " Ki: 6.666666666666667\n",
      " -5.27968692779541\n",
      "\n",
      "Kp: 44.55555555555556\n",
      " Ki: 10.0\n",
      " -51.650428771972656\n",
      "\n",
      "Kp: 44.55555555555556\n",
      " Ki: 13.333333333333334\n",
      " -116.06561279296875\n",
      "\n",
      "Kp: 44.55555555555556\n",
      " Ki: 16.666666666666668\n",
      " -175.27981567382812\n",
      "\n",
      "Kp: 44.55555555555556\n",
      " Ki: 20.0\n",
      " -118.06704711914062\n",
      "\n",
      "Kp: 44.55555555555556\n",
      " Ki: 23.333333333333336\n",
      " -96.72044372558594\n",
      "\n",
      "Kp: 44.55555555555556\n",
      " Ki: 26.666666666666668\n",
      " -371.86328125\n",
      "\n",
      "Kp: 44.55555555555556\n",
      " Ki: 30.0\n",
      " -30.360843658447266\n",
      "\n",
      "Kp: 50.0\n",
      " Ki: 0.0\n",
      " -59.91081619262695\n",
      "\n",
      "Kp: 50.0\n",
      " Ki: 3.3333333333333335\n",
      " -0.355447918176651\n",
      "\n",
      "Kp: 50.0\n",
      " Ki: 6.666666666666667\n",
      " -155.65077209472656\n",
      "\n",
      "Kp: 50.0\n",
      " Ki: 10.0\n",
      " -354.843017578125\n",
      "\n",
      "Kp: 50.0\n",
      " Ki: 13.333333333333334\n",
      " -207.28848266601562\n",
      "\n",
      "Kp: 50.0\n",
      " Ki: 16.666666666666668\n",
      " -316.8380432128906\n",
      "\n",
      "Kp: 50.0\n",
      " Ki: 20.0\n",
      " -207.02276611328125\n",
      "\n",
      "Kp: 50.0\n",
      " Ki: 23.333333333333336\n",
      " -111.92408752441406\n",
      "\n",
      "Kp: 50.0\n",
      " Ki: 26.666666666666668\n",
      " -228.93104553222656\n",
      "\n",
      "Kp: 50.0\n",
      " Ki: 30.0\n",
      " -42.98497772216797\n",
      "\n"
     ]
    }
   ],
   "source": [
    "for Kp in np.linspace(1,50,10):\n",
    "    for Ki in np.linspace(0,30,10):\n",
    "        for i in range(1):\n",
    "            done = False\n",
    "            #Kp = 10\n",
    "            #Ki = 1e-6\n",
    "            obs = env.reset()\n",
    "            while not done:\n",
    "                #action = obs[0] * Kp + obs[1] * Ki\n",
    "                #print(action)\n",
    "                obs, reward, done, _ = env.step( np.array([Ki, Kp]))\n",
    "                print(f'Kp: {Kp}\\n Ki: {Ki}\\n {reward}\\n')\n",
    "\n",
    "\n",
    "        #fig = plt.figure()\n",
    "        #ax = fig.subplots()\n",
    "\n",
    "        ##ax.plot(env.times, env.outputs[:,0], label='error')\n",
    "        #ax.legend()\n",
    "\n"
   ]
  },
  {
   "cell_type": "code",
   "execution_count": 27,
   "id": "2df54c33",
   "metadata": {},
   "outputs": [
    {
     "data": {
      "text/plain": [
       "True"
      ]
     },
     "execution_count": 27,
     "metadata": {},
     "output_type": "execute_result"
    }
   ],
   "source": [
    "env.getObservationSpace().contains(np.full([1,1001], 0, dtype=np.float32))"
   ]
  },
  {
   "cell_type": "code",
   "execution_count": 28,
   "id": "4d8e1ed6",
   "metadata": {},
   "outputs": [
    {
     "data": {
      "text/plain": [
       "array([4141.82], dtype=float32)"
      ]
     },
     "execution_count": 28,
     "metadata": {},
     "output_type": "execute_result"
    }
   ],
   "source": [
    "env.customVars['ctrlInt']"
   ]
  },
  {
   "cell_type": "code",
   "execution_count": 29,
   "id": "cb1639e9",
   "metadata": {},
   "outputs": [
    {
     "ename": "AttributeError",
     "evalue": "'FMUchecker' object has no attribute 'u'",
     "output_type": "error",
     "traceback": [
      "\u001b[0;31m---------------------------------------------------------------------------\u001b[0m",
      "\u001b[0;31mAttributeError\u001b[0m                            Traceback (most recent call last)",
      "Cell \u001b[0;32mIn [29], line 4\u001b[0m\n\u001b[1;32m      1\u001b[0m fig \u001b[39m=\u001b[39m plt\u001b[39m.\u001b[39mfigure()\n\u001b[1;32m      2\u001b[0m ax \u001b[39m=\u001b[39m fig\u001b[39m.\u001b[39msubplots()\n\u001b[0;32m----> 4\u001b[0m ax\u001b[39m.\u001b[39mplot(env\u001b[39m.\u001b[39mtimes[:], env\u001b[39m.\u001b[39;49mu)\n",
      "\u001b[0;31mAttributeError\u001b[0m: 'FMUchecker' object has no attribute 'u'"
     ]
    },
    {
     "data": {
      "image/png": "[encoded data removed]",
      "text/plain": [
       "<Figure size 640x480 with 1 Axes>"
      ]
     },
     "metadata": {},
     "output_type": "display_data"
    }
   ],
   "source": [
    "fig = plt.figure()\n",
    "ax = fig.subplots()\n",
    "\n",
    "ax.plot(env.times[:], env.u)"
   ]
  },
  {
   "cell_type": "code",
   "execution_count": null,
   "id": "eb2cf366",
   "metadata": {},
   "outputs": [
    {
     "data": {
      "text/plain": [
       "<matplotlib.legend.Legend at 0x7fa30b33e250>"
      ]
     },
     "execution_count": 21,
     "metadata": {},
     "output_type": "execute_result"
    },
    {
     "data": {
      "image/png": "[encoded data removed]",
      "text/plain": [
       "<Figure size 640x480 with 1 Axes>"
      ]
     },
     "metadata": {},
     "output_type": "display_data"
    }
   ],
   "source": [
    "\n",
    "fig = plt.figure()\n",
    "ax = fig.subplots()\n",
    "\n",
    "ax.plot(env.times[1:], env.inputs[1:,2], label='error')\n",
    "ax.legend()"
   ]
  },
  {
   "cell_type": "code",
   "execution_count": null,
   "id": "d9e980ce",
   "metadata": {},
   "outputs": [
    {
     "data": {
      "text/plain": [
       "<matplotlib.legend.Legend at 0x7fa3122041c0>"
      ]
     },
     "execution_count": 22,
     "metadata": {},
     "output_type": "execute_result"
    },
    {
     "data": {
      "image/png": "[encoded data removed]",
      "text/plain": [
       "<Figure size 640x480 with 1 Axes>"
      ]
     },
     "metadata": {},
     "output_type": "display_data"
    }
   ],
   "source": [
    "fig = plt.figure()\n",
    "ax = fig.subplots()\n",
    "\n",
    "ax.plot(env.times[:], env.outputs[:,2], label='uctrl')\n",
    "ax.legend()"
   ]
  },
  {
   "cell_type": "code",
   "execution_count": null,
   "id": "89793c54",
   "metadata": {},
   "outputs": [
    {
     "ename": "SyntaxError",
     "evalue": "invalid syntax (1098408525.py, line 6)",
     "output_type": "error",
     "traceback": [
      "\u001b[0;36m  Cell \u001b[0;32mIn [23], line 6\u001b[0;36m\u001b[0m\n\u001b[0;31m    e=\u001b[0m\n\u001b[0m      ^\u001b[0m\n\u001b[0;31mSyntaxError\u001b[0m\u001b[0;31m:\u001b[0m invalid syntax\n"
     ]
    }
   ],
   "source": [
    "fig = plt.figure()\n",
    "ax = fig.subplots()\n",
    "\n",
    "ax.plot(env.times[:], env.inputs[:,2], label='uctrl')\n",
    "ax.legend()\n",
    "e="
   ]
  },
  {
   "cell_type": "code",
   "execution_count": null,
   "id": "c3e1ae5a",
   "metadata": {},
   "outputs": [],
   "source": [
    "for i in range(100000):\n",
    "    env.getReward(action,obs)"
   ]
  },
  {
   "cell_type": "code",
   "execution_count": null,
   "id": "4c296d08",
   "metadata": {},
   "outputs": [
    {
     "data": {
      "text/plain": [
       "array([[0.00000000e+00, 0.00000000e+00, 0.00000000e+00, 1.00000000e+01],\n",
       "       [1.00000000e-03, 1.00000000e+02, 1.00000000e+03, 1.00000000e+01],\n",
       "       [1.00000000e-03, 1.00000000e+02, 1.00000001e+03, 1.00000000e+01],\n",
       "       ...,\n",
       "       [1.00000000e-03, 1.00000000e+02, 1.26411215e+00, 1.00000000e+01],\n",
       "       [1.00000000e-03, 1.00000000e+02, 1.26411215e+00, 1.00000000e+01],\n",
       "       [1.00000000e-03, 1.00000000e+02, 1.26411215e+00, 1.00000000e+01]])"
      ]
     },
     "execution_count": 12,
     "metadata": {},
     "output_type": "execute_result"
    }
   ],
   "source": [
    "env.inputs"
   ]
  },
  {
   "cell_type": "code",
   "execution_count": null,
   "id": "f7464a2b",
   "metadata": {},
   "outputs": [
    {
     "data": {
      "text/plain": [
       "array([[ 0.        , 10.        ,  0.        ],\n",
       "       [ 0.        , 10.        ,  0.01      ],\n",
       "       [ 0.25      ,  9.75      ,  0.02      ],\n",
       "       ...,\n",
       "       [ 9.98736413,  0.01263587,  0.52552912],\n",
       "       [ 9.98736413,  0.01263587,  0.52554175],\n",
       "       [ 9.98736413,  0.01263587,  0.52555439]])"
      ]
     },
     "execution_count": 13,
     "metadata": {},
     "output_type": "execute_result"
    }
   ],
   "source": [
    "env.outputs"
   ]
  },
  {
   "cell_type": "code",
   "execution_count": null,
   "id": "fb00780a",
   "metadata": {},
   "outputs": [
    {
     "data": {
      "text/plain": [
       "array([[1.0000e-03],\n",
       "       [2.0000e-03],\n",
       "       [3.0000e-03],\n",
       "       ...,\n",
       "       [9.9990e+00],\n",
       "       [1.0000e+01],\n",
       "       [1.0001e+01]])"
      ]
     },
     "execution_count": 14,
     "metadata": {},
     "output_type": "execute_result"
    }
   ],
   "source": [
    "env.times"
   ]
  },
  {
   "cell_type": "code",
   "execution_count": null,
   "id": "608cbda1",
   "metadata": {},
   "outputs": [
    {
     "data": {
      "text/plain": [
       "10000"
      ]
     },
     "execution_count": 15,
     "metadata": {},
     "output_type": "execute_result"
    }
   ],
   "source": [
    "env.stepCount"
   ]
  },
  {
   "cell_type": "code",
   "execution_count": null,
   "id": "0ea992be",
   "metadata": {},
   "outputs": [],
   "source": []
  }
 ],
 "metadata": {
  "kernelspec": {
   "display_name": "Python 3.9.15",
   "language": "python",
   "name": "python3"
  },
  "language_info": {
   "codemirror_mode": {
    "name": "ipython",
    "version": 3
   },
   "file_extension": ".py",
   "mimetype": "text/x-python",
   "name": "python",
   "nbconvert_exporter": "python",
   "pygments_lexer": "ipython3",
   "version": "3.9.15"
  },
  "vscode": {
   "interpreter": {
    "hash": "8a7e96d51479e192f437693b69736ebafa6e31b8e0eb2319a92624b7e7440c0a"
   }
  }
 },
 "nbformat": 4,
 "nbformat_minor": 5
}
