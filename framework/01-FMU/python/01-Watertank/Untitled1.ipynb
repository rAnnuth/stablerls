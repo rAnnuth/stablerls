{
 "cells": [
  {
   "cell_type": "code",
   "execution_count": 1,
   "id": "5fb619ab",
   "metadata": {},
   "outputs": [
    {
     "name": "stdout",
     "output_type": "stream",
     "text": [
      "No function for resetIO implemented\n"
     ]
    },
    {
     "data": {
      "text/plain": [
       "{'DEFAULT': {},\n",
       " 'General': {'DEBUG': False, 'LOG': False, 'Href': 10},\n",
       " 'FMU': {'fmuPath': '../../matlab/01-Watertank/rlwatertank.fmu',\n",
       "  'startTime': 0,\n",
       "  'stopTime': 10,\n",
       "  'tolerance': 1e-06,\n",
       "  'createFMU': False,\n",
       "  'dt': 0.1},\n",
       " 'Reinforcement Learning': {'fixedValue': '[1, 3, 5]', 'actionInterval': 5},\n",
       " 'Algorithm': {'fixedValue': '[1, 3, 5]'},\n",
       " 'Environment': {'fixedValue': '[1, 3, 5]'},\n",
       " 'Reward': {'rewardFactor': 5}}"
      ]
     },
     "execution_count": 1,
     "metadata": {},
     "output_type": "execute_result"
    }
   ],
   "source": [
    "%load_ext autoreload\n",
    "%autoreload 2\n",
    "import fmuSimulation.gymFMUchecker as gymFMUChecker\n",
    "\n",
    "import os\n",
    "from fmuSimulation.configReader import configReader\n",
    "import numpy as np\n",
    "import sys\n",
    "\n",
    "config = os.path.abspath('Example.cfg')\n",
    "cfg = configReader(config)\n",
    "config = cfg.getMulti(cfg.getSections())\n",
    "config"
   ]
  },
  {
   "cell_type": "code",
   "execution_count": 2,
   "id": "83efa5a0",
   "metadata": {},
   "outputs": [
    {
     "name": "stdout",
     "output_type": "stream",
     "text": [
      "Incompatible sample time and stop time.\n",
      " Using 10.0 as stop time instead\n",
      "Incompatible sample time and action interval.\n",
      " Using 5.0 as interval instead\n"
     ]
    }
   ],
   "source": [
    "env = gymFMUChecker.FMUchecker(config)"
   ]
  },
  {
   "cell_type": "code",
   "execution_count": 3,
   "id": "f158cbca",
   "metadata": {},
   "outputs": [
    {
     "data": {
      "text/plain": [
       "Box(-100.0, 100.0, (2,), float32)"
      ]
     },
     "execution_count": 3,
     "metadata": {},
     "output_type": "execute_result"
    }
   ],
   "source": [
    "env.getObservationSpace()"
   ]
  },
  {
   "cell_type": "code",
   "execution_count": 4,
   "id": "0db6bd94",
   "metadata": {},
   "outputs": [
    {
     "data": {
      "text/plain": [
       "True"
      ]
     },
     "execution_count": 4,
     "metadata": {},
     "output_type": "execute_result"
    }
   ],
   "source": [
    "env.checkAction(np.array([2,2]).astype(np.float32))"
   ]
  },
  {
   "cell_type": "code",
   "execution_count": 5,
   "id": "dc3be586",
   "metadata": {},
   "outputs": [
    {
     "data": {
      "text/plain": [
       "[ScalarVariable(name='Control.KI', type='Real', clocks=[], dimensions=[], dimensionValueReferences=[]),\n",
       " ScalarVariable(name='Control.KP', type='Real', clocks=[], dimensions=[], dimensionValueReferences=[])]"
      ]
     },
     "execution_count": 5,
     "metadata": {},
     "output_type": "execute_result"
    }
   ],
   "source": [
    "env.fmu.getInput()"
   ]
  },
  {
   "cell_type": "code",
   "execution_count": 6,
   "id": "111b8bea",
   "metadata": {},
   "outputs": [],
   "source": [
    "obs = env.getObservation()"
   ]
  },
  {
   "cell_type": "code",
   "execution_count": 10,
   "id": "1bfa86bf",
   "metadata": {},
   "outputs": [
    {
     "data": {
      "text/plain": [
       "True"
      ]
     },
     "execution_count": 10,
     "metadata": {},
     "output_type": "execute_result"
    }
   ],
   "source": [
    "env.checkObservation(np.array(obs).astype(np.float32))"
   ]
  },
  {
   "cell_type": "code",
   "execution_count": 8,
   "id": "3aa3cf8d",
   "metadata": {},
   "outputs": [
    {
     "data": {
      "text/plain": [
       "numpy.float32"
      ]
     },
     "execution_count": 8,
     "metadata": {},
     "output_type": "execute_result"
    }
   ],
   "source": [
    "type(obs[1].astype(np.float32))"
   ]
  },
  {
   "cell_type": "code",
   "execution_count": 9,
   "id": "421ee892",
   "metadata": {},
   "outputs": [
    {
     "ename": "IndexError",
     "evalue": "too many indices for array: array is 0-dimensional, but 1 were indexed",
     "output_type": "error",
     "traceback": [
      "\u001b[1;31m---------------------------------------------------------------------------\u001b[0m",
      "\u001b[1;31mIndexError\u001b[0m                                Traceback (most recent call last)",
      "\u001b[1;32mc:\\Users\\Robert\\git\\diss\\framework\\02-ControlRL\\python\\01-Watertank\\Untitled1.ipynb Zelle 9\u001b[0m in \u001b[0;36m<cell line: 1>\u001b[1;34m()\u001b[0m\n\u001b[1;32m----> <a href='vscode-notebook-cell:/c%3A/Users/Robert/git/diss/framework/02-ControlRL/python/01-Watertank/Untitled1.ipynb#X33sZmlsZQ%3D%3D?line=0'>1</a>\u001b[0m env\u001b[39m.\u001b[39mcheckObservation(np\u001b[39m.\u001b[39;49marray(\u001b[39m4\u001b[39;49m)\u001b[39m.\u001b[39;49mastype(np\u001b[39m.\u001b[39;49mfloat32)[\u001b[39m0\u001b[39;49m])\n",
      "\u001b[1;31mIndexError\u001b[0m: too many indices for array: array is 0-dimensional, but 1 were indexed"
     ]
    }
   ],
   "source": [
    "env.checkObservation(np.array(4).astype(np.float32)[0])"
   ]
  },
  {
   "cell_type": "code",
   "execution_count": null,
   "id": "4ea2bf7b",
   "metadata": {},
   "outputs": [
    {
     "ename": "AttributeError",
     "evalue": "'numpy.ndarray' object has no attribute 'value'",
     "output_type": "error",
     "traceback": [
      "\u001b[1;31m---------------------------------------------------------------------------\u001b[0m",
      "\u001b[1;31mAttributeError\u001b[0m                            Traceback (most recent call last)",
      "\u001b[1;32mc:\\Users\\Robert\\git\\diss\\framework\\02-ControlRL\\python\\01-Watertank\\Untitled1.ipynb Zelle 10\u001b[0m in \u001b[0;36m<cell line: 1>\u001b[1;34m()\u001b[0m\n\u001b[1;32m----> <a href='vscode-notebook-cell:/c%3A/Users/Robert/git/diss/framework/02-ControlRL/python/01-Watertank/Untitled1.ipynb#X34sZmlsZQ%3D%3D?line=0'>1</a>\u001b[0m np\u001b[39m.\u001b[39;49marray(\u001b[39m4\u001b[39;49m)\u001b[39m.\u001b[39;49mastype(np\u001b[39m.\u001b[39;49mfloat32)\u001b[39m.\u001b[39;49mvalue()\n",
      "\u001b[1;31mAttributeError\u001b[0m: 'numpy.ndarray' object has no attribute 'value'"
     ]
    }
   ],
   "source": [
    "np.array(4).astype(np.float32)"
   ]
  },
  {
   "cell_type": "code",
   "execution_count": 45,
   "id": "4984365f",
   "metadata": {},
   "outputs": [
    {
     "name": "stdout",
     "output_type": "stream",
     "text": [
      "[1 1]\n",
      "<class 'numpy.ndarray'>\n"
     ]
    },
    {
     "name": "stderr",
     "output_type": "stream",
     "text": [
      "c:\\Users\\Robert\\git\\env\\lib\\site-packages\\gym\\spaces\\box.py:227: UserWarning: \u001b[33mWARN: Casting input x to numpy array.\u001b[0m\n",
      "  logger.warn(\"Casting input x to numpy array.\")\n"
     ]
    },
    {
     "data": {
      "text/plain": [
       "True"
      ]
     },
     "execution_count": 45,
     "metadata": {},
     "output_type": "execute_result"
    }
   ],
   "source": [
    "import numpy as np\n",
    "from gym import spaces \n",
    "out = []\n",
    "\n",
    "arg = np.array([1,1])\n",
    "out.append(arg[0])\n",
    "\n",
    "print(arg)\n",
    "print(type(arg))\n",
    "\n",
    "low = np.array([0.0]).astype(np.float32)\n",
    "high = np.array([20.0]).astype(np.float32)\n",
    "spaces.Box(low, high).contains(out)\n"
   ]
  },
  {
   "cell_type": "code",
   "execution_count": 46,
   "id": "ae6783de",
   "metadata": {},
   "outputs": [
    {
     "data": {
      "text/plain": [
       "[1]"
      ]
     },
     "execution_count": 46,
     "metadata": {},
     "output_type": "execute_result"
    }
   ],
   "source": [
    "out"
   ]
  },
  {
   "cell_type": "code",
   "execution_count": 40,
   "id": "42cda133",
   "metadata": {},
   "outputs": [
    {
     "data": {
      "text/plain": [
       "float"
      ]
     },
     "execution_count": 40,
     "metadata": {},
     "output_type": "execute_result"
    }
   ],
   "source": [
    "type(arg) \n"
   ]
  },
  {
   "cell_type": "code",
   "execution_count": 41,
   "id": "4a4ed38a",
   "metadata": {},
   "outputs": [
    {
     "data": {
      "text/plain": [
       "list"
      ]
     },
     "execution_count": 41,
     "metadata": {},
     "output_type": "execute_result"
    }
   ],
   "source": [
    "type([1])"
   ]
  },
  {
   "cell_type": "code",
   "execution_count": null,
   "id": "26c44cd8",
   "metadata": {},
   "outputs": [],
   "source": []
  }
 ],
 "metadata": {
  "kernelspec": {
   "display_name": "Python 3.9.12",
   "language": "python",
   "name": "python3"
  },
  "language_info": {
   "codemirror_mode": {
    "name": "ipython",
    "version": 3
   },
   "file_extension": ".py",
   "mimetype": "text/x-python",
   "name": "python",
   "nbconvert_exporter": "python",
   "pygments_lexer": "ipython3",
   "version": "3.9.12"
  },
  "vscode": {
   "interpreter": {
    "hash": "23431728c7532b37a33913d127f36cf7c0ea2ff8bac737dbe1e9eccff71e7bd8"
   }
  }
 },
 "nbformat": 4,
 "nbformat_minor": 5
}
