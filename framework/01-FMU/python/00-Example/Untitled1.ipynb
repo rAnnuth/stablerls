{
 "cells": [
  {
   "cell_type": "code",
   "execution_count": 5,
   "id": "5fb619ab",
   "metadata": {},
   "outputs": [
    {
     "ename": "NameError",
     "evalue": "name 'test' is not defined",
     "output_type": "error",
     "traceback": [
      "\u001b[1;31m---------------------------------------------------------------------------\u001b[0m",
      "\u001b[1;31mNameError\u001b[0m                                 Traceback (most recent call last)",
      "Input \u001b[1;32mIn [5]\u001b[0m, in \u001b[0;36m<cell line: 1>\u001b[1;34m()\u001b[0m\n\u001b[1;32m----> 1\u001b[0m \u001b[38;5;28;01mimport\u001b[39;00m \u001b[38;5;21;01mexampleFMU\u001b[39;00m\n",
      "File \u001b[1;32m~\\git\\diss\\framework\\02-ControlRL\\python\\00-Example\\exampleFMU.py:41\u001b[0m, in \u001b[0;36m<module>\u001b[1;34m\u001b[0m\n\u001b[0;32m     38\u001b[0m     \u001b[38;5;28;01mdef\u001b[39;00m \u001b[38;5;21mgetMetric\u001b[39m():\n\u001b[0;32m     39\u001b[0m         \u001b[38;5;28;01mpass\u001b[39;00m\n\u001b[1;32m---> 41\u001b[0m \u001b[38;5;28msetattr\u001b[39m(exampleFMU, \u001b[38;5;124m'\u001b[39m\u001b[38;5;124mtest\u001b[39m\u001b[38;5;124m'\u001b[39m, \u001b[43mtest\u001b[49m)\n",
      "\u001b[1;31mNameError\u001b[0m: name 'test' is not defined"
     ]
    }
   ],
   "source": [
    "import exampleFMU"
   ]
  },
  {
   "cell_type": "code",
   "execution_count": 4,
   "id": "3f0f3337",
   "metadata": {},
   "outputs": [],
   "source": [
    "def test(self,a):\n",
    "    print('Hallo')"
   ]
  },
  {
   "cell_type": "code",
   "execution_count": 21,
   "id": "33c3debf",
   "metadata": {},
   "outputs": [
    {
     "data": {
      "text/plain": [
       "[]"
      ]
     },
     "execution_count": 21,
     "metadata": {},
     "output_type": "execute_result"
    }
   ],
   "source": [
    "[x for x in dir(exampleFMU) if getattr(exampleFMU,x)==type(dmy)]"
   ]
  },
  {
   "cell_type": "code",
   "execution_count": 15,
   "id": "271a66a4",
   "metadata": {},
   "outputs": [
    {
     "ename": "NameError",
     "evalue": "name 'function' is not defined",
     "output_type": "error",
     "traceback": [
      "\u001b[1;31m---------------------------------------------------------------------------\u001b[0m",
      "\u001b[1;31mNameError\u001b[0m                                 Traceback (most recent call last)",
      "Input \u001b[1;32mIn [15]\u001b[0m, in \u001b[0;36m<cell line: 1>\u001b[1;34m()\u001b[0m\n\u001b[1;32m----> 1\u001b[0m \u001b[38;5;28mtype\u001b[39m(exampleFMU\u001b[38;5;241m.\u001b[39mresetInput)\u001b[38;5;241m==\u001b[39mfunction\n",
      "\u001b[1;31mNameError\u001b[0m: name 'function' is not defined"
     ]
    }
   ],
   "source": [
    "type(exampleFMU.resetInput)==function"
   ]
  },
  {
   "cell_type": "code",
   "execution_count": 16,
   "id": "94cf1c03",
   "metadata": {},
   "outputs": [],
   "source": [
    "def dmy():\n",
    "    pass"
   ]
  },
  {
   "cell_type": "code",
   "execution_count": 18,
   "id": "7a122b56",
   "metadata": {},
   "outputs": [
    {
     "data": {
      "text/plain": [
       "True"
      ]
     },
     "execution_count": 18,
     "metadata": {},
     "output_type": "execute_result"
    }
   ],
   "source": [
    "type(dmy)==type(dmy)"
   ]
  },
  {
   "cell_type": "code",
   "execution_count": 20,
   "id": "cb74ef39",
   "metadata": {},
   "outputs": [
    {
     "ename": "TypeError",
     "evalue": "'module' object is not subscriptable",
     "output_type": "error",
     "traceback": [
      "\u001b[1;31m---------------------------------------------------------------------------\u001b[0m",
      "\u001b[1;31mTypeError\u001b[0m                                 Traceback (most recent call last)",
      "Input \u001b[1;32mIn [20]\u001b[0m, in \u001b[0;36m<cell line: 1>\u001b[1;34m()\u001b[0m\n\u001b[1;32m----> 1\u001b[0m exampleFMU[\u001b[38;5;124m'\u001b[39m\u001b[38;5;124mgetInput\u001b[39m\u001b[38;5;124m'\u001b[39m]\n",
      "\u001b[1;31mTypeError\u001b[0m: 'module' object is not subscriptable"
     ]
    }
   ],
   "source": []
  },
  {
   "cell_type": "code",
   "execution_count": 28,
   "id": "61f88b01",
   "metadata": {},
   "outputs": [
    {
     "data": {
      "text/plain": [
       "True"
      ]
     },
     "execution_count": 28,
     "metadata": {},
     "output_type": "execute_result"
    }
   ],
   "source": [
    "getattr(exampleFMU,'getActionsSpace')==getattr(exampleFMU,'getActionsSpace')"
   ]
  },
  {
   "cell_type": "code",
   "execution_count": 25,
   "id": "5705d8d6",
   "metadata": {},
   "outputs": [
    {
     "data": {
      "text/plain": [
       "function"
      ]
     },
     "execution_count": 25,
     "metadata": {},
     "output_type": "execute_result"
    }
   ],
   "source": [
    "type(getattr(exampleFMU,'getActionsSpace'))"
   ]
  },
  {
   "cell_type": "code",
   "execution_count": 21,
   "id": "7bdb937a",
   "metadata": {},
   "outputs": [],
   "source": [
    "class test:\n",
    "    def __init__(self):\n",
    "        self.a = 1\n",
    "    def test(self):\n",
    "        print(self.getInput())\n",
    "        "
   ]
  },
  {
   "cell_type": "code",
   "execution_count": 2,
   "id": "5df64374",
   "metadata": {},
   "outputs": [],
   "source": [
    "def test(self, a):\n",
    "    print(self.a)\n",
    "    print(a)"
   ]
  },
  {
   "cell_type": "code",
   "execution_count": 23,
   "id": "f1c33d4a",
   "metadata": {},
   "outputs": [],
   "source": [
    "a = test()\n",
    "setattr(test, 'test2', test2)"
   ]
  },
  {
   "cell_type": "code",
   "execution_count": 24,
   "id": "ffc0562c",
   "metadata": {},
   "outputs": [
    {
     "name": "stdout",
     "output_type": "stream",
     "text": [
      "1\n",
      "10\n"
     ]
    }
   ],
   "source": [
    "a = test()\n",
    "a.test2(10)"
   ]
  },
  {
   "cell_type": "code",
   "execution_count": 8,
   "id": "9872ed8c",
   "metadata": {},
   "outputs": [],
   "source": [
    "class Foo:\n",
    "    def __init__(self, v):\n",
    "        self.v = v\n",
    "        \n",
    "def my_new_method(self):\n",
    "    print(\"self.v =\", self.v)\n",
    "\n",
    "setattr(Foo, 'print_v', my_new_method)\n",
    "\n",
    "x = Foo(5)"
   ]
  },
  {
   "cell_type": "code",
   "execution_count": 9,
   "id": "68360cb9",
   "metadata": {},
   "outputs": [
    {
     "data": {
      "text/plain": [
       "<bound method my_new_method of <__main__.Foo object at 0x000001A3AC8CF0D0>>"
      ]
     },
     "execution_count": 9,
     "metadata": {},
     "output_type": "execute_result"
    }
   ],
   "source": [
    "b = getattr(x,'print_v')"
   ]
  },
  {
   "cell_type": "code",
   "execution_count": 10,
   "id": "da2fba8a",
   "metadata": {},
   "outputs": [
    {
     "ename": "NameError",
     "evalue": "name 'test' is not defined",
     "output_type": "error",
     "traceback": [
      "\u001b[1;31m---------------------------------------------------------------------------\u001b[0m",
      "\u001b[1;31mNameError\u001b[0m                                 Traceback (most recent call last)",
      "Input \u001b[1;32mIn [10]\u001b[0m, in \u001b[0;36m<cell line: 1>\u001b[1;34m()\u001b[0m\n\u001b[1;32m----> 1\u001b[0m \u001b[38;5;28;01mfrom\u001b[39;00m \u001b[38;5;21;01mexampleFMU\u001b[39;00m \u001b[38;5;28;01mimport\u001b[39;00m \u001b[38;5;241m*\u001b[39m\n",
      "File \u001b[1;32m~\\git\\diss\\framework\\02-ControlRL\\python\\00-Example\\exampleFMU.py:41\u001b[0m, in \u001b[0;36m<module>\u001b[1;34m\u001b[0m\n\u001b[0;32m     38\u001b[0m     \u001b[38;5;28;01mdef\u001b[39;00m \u001b[38;5;21mgetMetric\u001b[39m():\n\u001b[0;32m     39\u001b[0m         \u001b[38;5;28;01mpass\u001b[39;00m\n\u001b[1;32m---> 41\u001b[0m \u001b[38;5;28msetattr\u001b[39m(exampleFMU, \u001b[38;5;124m'\u001b[39m\u001b[38;5;124mtest\u001b[39m\u001b[38;5;124m'\u001b[39m, \u001b[43mtest\u001b[49m)\n",
      "\u001b[1;31mNameError\u001b[0m: name 'test' is not defined"
     ]
    }
   ],
   "source": [
    "from exampleFMU import *"
   ]
  },
  {
   "cell_type": "code",
   "execution_count": 11,
   "id": "1867f821",
   "metadata": {},
   "outputs": [
    {
     "ename": "ModuleNotFoundError",
     "evalue": "No module named 'fmuSimulation'",
     "output_type": "error",
     "traceback": [
      "\u001b[1;31m---------------------------------------------------------------------------\u001b[0m",
      "\u001b[1;31mModuleNotFoundError\u001b[0m                       Traceback (most recent call last)",
      "Input \u001b[1;32mIn [11]\u001b[0m, in \u001b[0;36m<cell line: 1>\u001b[1;34m()\u001b[0m\n\u001b[1;32m----> 1\u001b[0m \u001b[38;5;28;01mimport\u001b[39;00m \u001b[38;5;21;01mfmuSimulation\u001b[39;00m\u001b[38;5;21;01m.\u001b[39;00m\u001b[38;5;21;01mgymFMU\u001b[39;00m\n",
      "\u001b[1;31mModuleNotFoundError\u001b[0m: No module named 'fmuSimulation'"
     ]
    }
   ],
   "source": [
    "import fmuSimulation.gymFMU"
   ]
  },
  {
   "cell_type": "code",
   "execution_count": null,
   "id": "83efa5a0",
   "metadata": {},
   "outputs": [],
   "source": []
  }
 ],
 "metadata": {
  "kernelspec": {
   "display_name": "Python 3 (ipykernel)",
   "language": "python",
   "name": "python3"
  },
  "language_info": {
   "codemirror_mode": {
    "name": "ipython",
    "version": 3
   },
   "file_extension": ".py",
   "mimetype": "text/x-python",
   "name": "python",
   "nbconvert_exporter": "python",
   "pygments_lexer": "ipython3",
   "version": "3.10.0"
  }
 },
 "nbformat": 4,
 "nbformat_minor": 5
}
