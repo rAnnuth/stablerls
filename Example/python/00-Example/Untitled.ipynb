{
 "cells": [
  {
   "cell_type": "code",
   "execution_count": 1,
   "id": "0b44f840",
   "metadata": {},
   "outputs": [],
   "source": [
    "%load_ext autoreload\n",
    "%autoreload 2"
   ]
  },
  {
   "cell_type": "code",
   "execution_count": 2,
   "id": "3269bfef",
   "metadata": {},
   "outputs": [
    {
     "name": "stdout",
     "output_type": "stream",
     "text": [
      "No function for resetIO implemented\n"
     ]
    },
    {
     "data": {
      "text/plain": [
       "{'DEFAULT': {},\n",
       " 'General': {'DEBUG': False, 'LOG': False},\n",
       " 'FMU': {'fmuPath': '../../matlab/00-Example/TestGrid.fmu',\n",
       "  'startTime': 0,\n",
       "  'stopTime': 20,\n",
       "  'tolerance': 1e-06,\n",
       "  'createFMU': False,\n",
       "  'dt': 0.5},\n",
       " 'Reinforcement Learning': {'fixedValue': '[1, 3, 5]', 'actionInterval': 0.5},\n",
       " 'Algorithm': {'fixedValue': '[1, 3, 5]'},\n",
       " 'Environment': {'fixedValue': '[1, 3, 5]'},\n",
       " 'Reward': {'rewardFactor': 5}}"
      ]
     },
     "execution_count": 2,
     "metadata": {},
     "output_type": "execute_result"
    }
   ],
   "source": [
    "import os\n",
    "import fmuSimulation.gymFMU as ExampleFMU\n",
    "from fmuSimulation.configReader import configReader\n",
    "import numpy as np\n",
    "import sys\n",
    "\n",
    "config = os.path.abspath('Example.cfg')\n",
    "cfg = configReader(config)\n",
    "config = cfg.getMulti(cfg.getSections())\n",
    "config"
   ]
  },
  {
   "cell_type": "code",
   "execution_count": 3,
   "id": "70f53d77",
   "metadata": {},
   "outputs": [
    {
     "name": "stderr",
     "output_type": "stream",
     "text": [
      "2022-11-11 14:06:47,565\tINFO worker.py:1519 -- Started a local Ray instance. View the dashboard at \u001b[1m\u001b[32m127.0.0.1:8265 \u001b[39m\u001b[22m\n"
     ]
    },
    {
     "data": {
      "text/html": [
       "<div>\n",
       "    <div style=\"margin-left: 50px;display: flex;flex-direction: row;align-items: center\">\n",
       "        <h3 style=\"color: var(--jp-ui-font-color0)\">Ray</h3>\n",
       "        <svg version=\"1.1\" id=\"ray\" width=\"3em\" viewBox=\"0 0 144.5 144.6\" style=\"margin-left: 3em;margin-right: 3em\">\n",
       "            <g id=\"layer-1\">\n",
       "                <path fill=\"#00a2e9\" class=\"st0\" d=\"M97.3,77.2c-3.8-1.1-6.2,0.9-8.3,5.1c-3.5,6.8-9.9,9.9-17.4,9.6S58,88.1,54.8,81.2c-1.4-3-3-4-6.3-4.1\n",
       "                    c-5.6-0.1-9.9,0.1-13.1,6.4c-3.8,7.6-13.6,10.2-21.8,7.6C5.2,88.4-0.4,80.5,0,71.7c0.1-8.4,5.7-15.8,13.8-18.2\n",
       "                    c8.4-2.6,17.5,0.7,22.3,8c1.3,1.9,1.3,5.2,3.6,5.6c3.9,0.6,8,0.2,12,0.2c1.8,0,1.9-1.6,2.4-2.8c3.5-7.8,9.7-11.8,18-11.9\n",
       "                    c8.2-0.1,14.4,3.9,17.8,11.4c1.3,2.8,2.9,3.6,5.7,3.3c1-0.1,2,0.1,3,0c2.8-0.5,6.4,1.7,8.1-2.7s-2.3-5.5-4.1-7.5\n",
       "                    c-5.1-5.7-10.9-10.8-16.1-16.3C84,38,81.9,37.1,78,38.3C66.7,42,56.2,35.7,53,24.1C50.3,14,57.3,2.8,67.7,0.5\n",
       "                    C78.4-2,89,4.7,91.5,15.3c0.1,0.3,0.1,0.5,0.2,0.8c0.7,3.4,0.7,6.9-0.8,9.8c-1.7,3.2-0.8,5,1.5,7.2c6.7,6.5,13.3,13,19.8,19.7\n",
       "                    c1.8,1.8,3,2.1,5.5,1.2c9.1-3.4,17.9-0.6,23.4,7c4.8,6.9,4.6,16.1-0.4,22.9c-5.4,7.2-14.2,9.9-23.1,6.5c-2.3-0.9-3.5-0.6-5.1,1.1\n",
       "                    c-6.7,6.9-13.6,13.7-20.5,20.4c-1.8,1.8-2.5,3.2-1.4,5.9c3.5,8.7,0.3,18.6-7.7,23.6c-7.9,5-18.2,3.8-24.8-2.9\n",
       "                    c-6.4-6.4-7.4-16.2-2.5-24.3c4.9-7.8,14.5-11,23.1-7.8c3,1.1,4.7,0.5,6.9-1.7C91.7,98.4,98,92.3,104.2,86c1.6-1.6,4.1-2.7,2.6-6.2\n",
       "                    c-1.4-3.3-3.8-2.5-6.2-2.6C99.8,77.2,98.9,77.2,97.3,77.2z M72.1,29.7c5.5,0.1,9.9-4.3,10-9.8c0-0.1,0-0.2,0-0.3\n",
       "                    C81.8,14,77,9.8,71.5,10.2c-5,0.3-9,4.2-9.3,9.2c-0.2,5.5,4,10.1,9.5,10.3C71.8,29.7,72,29.7,72.1,29.7z M72.3,62.3\n",
       "                    c-5.4-0.1-9.9,4.2-10.1,9.7c0,0.2,0,0.3,0,0.5c0.2,5.4,4.5,9.7,9.9,10c5.1,0.1,9.9-4.7,10.1-9.8c0.2-5.5-4-10-9.5-10.3\n",
       "                    C72.6,62.3,72.4,62.3,72.3,62.3z M115,72.5c0.1,5.4,4.5,9.7,9.8,9.9c5.6-0.2,10-4.8,10-10.4c-0.2-5.4-4.6-9.7-10-9.7\n",
       "                    c-5.3-0.1-9.8,4.2-9.9,9.5C115,72.1,115,72.3,115,72.5z M19.5,62.3c-5.4,0.1-9.8,4.4-10,9.8c-0.1,5.1,5.2,10.4,10.2,10.3\n",
       "                    c5.6-0.2,10-4.9,9.8-10.5c-0.1-5.4-4.5-9.7-9.9-9.6C19.6,62.3,19.5,62.3,19.5,62.3z M71.8,134.6c5.9,0.2,10.3-3.9,10.4-9.6\n",
       "                    c0.5-5.5-3.6-10.4-9.1-10.8c-5.5-0.5-10.4,3.6-10.8,9.1c0,0.5,0,0.9,0,1.4c-0.2,5.3,4,9.8,9.3,10\n",
       "                    C71.6,134.6,71.7,134.6,71.8,134.6z\"/>\n",
       "            </g>\n",
       "        </svg>\n",
       "        <table>\n",
       "            <tr>\n",
       "                <td style=\"text-align: left\"><b>Python version:</b></td>\n",
       "                <td style=\"text-align: left\"><b>3.9.13</b></td>\n",
       "            </tr>\n",
       "            <tr>\n",
       "                <td style=\"text-align: left\"><b>Ray version:</b></td>\n",
       "                <td style=\"text-align: left\"><b> 2.1.0</b></td>\n",
       "            </tr>\n",
       "            <tr>\n",
       "    <td style=\"text-align: left\"><b>Dashboard:</b></td>\n",
       "    <td style=\"text-align: left\"><b><a href=\"http://127.0.0.1:8265\" target=\"_blank\">http://127.0.0.1:8265</a></b></td>\n",
       "</tr>\n",
       "\n",
       "        </table>\n",
       "    </div>\n",
       "</div>\n"
      ],
      "text/plain": [
       "RayContext(dashboard_url='127.0.0.1:8265', python_version='3.9.13', ray_version='2.1.0', ray_commit='be49bde7ee4f6adb3f8710aee0665c27f9f0bb62', address_info={'node_ip_address': '127.0.0.1', 'raylet_ip_address': '127.0.0.1', 'redis_address': None, 'object_store_address': 'tcp://127.0.0.1:61459', 'raylet_socket_name': 'tcp://127.0.0.1:60939', 'webui_url': '127.0.0.1:8265', 'session_dir': 'C:\\\\Users\\\\Robert\\\\AppData\\\\Local\\\\Temp\\\\ray\\\\session_2022-11-11_14-06-45_272792_35740', 'metrics_export_port': 63242, 'gcs_address': '127.0.0.1:65045', 'address': '127.0.0.1:65045', 'dashboard_agent_listen_port': 52365, 'node_id': '2fac4f725f1bf55f16e23ce94b633acd1186264af5039e8e458121ae'})"
      ]
     },
     "execution_count": 3,
     "metadata": {},
     "output_type": "execute_result"
    }
   ],
   "source": [
    "import gym, ray\n",
    "from ray.rllib.algorithms import ppo\n",
    "\n",
    "ray.init()\n"
   ]
  },
  {
   "cell_type": "code",
   "execution_count": 4,
   "id": "807b38c8",
   "metadata": {
    "scrolled": true
   },
   "outputs": [
    {
     "name": "stderr",
     "output_type": "stream",
     "text": [
      "2022-11-11 14:06:49,897\tINFO algorithm.py:2303 -- Your framework setting is 'tf', meaning you are using static-graph mode. Set framework='tf2' to enable eager execution with tf2.x. You may also then want to set eager_tracing=True in order to reach similar execution speed as with static-graph mode.\n",
      "2022-11-11 14:06:49,898\tINFO ppo.py:379 -- In multi-agent mode, policies will be optimized sequentially by the multi-GPU optimizer. Consider setting simple_optimizer=True if this doesn't work for you.\n",
      "2022-11-11 14:06:49,900\tINFO algorithm.py:457 -- Current log_level is WARN. For more information, set 'log_level': 'INFO' / 'DEBUG' or use the -v and -vv flags.\n"
     ]
    },
    {
     "name": "stdout",
     "output_type": "stream",
     "text": [
      "\u001b[2m\u001b[36m(RolloutWorker pid=23440)\u001b[0m No function for resetIO implemented\n",
      "\u001b[2m\u001b[36m(RolloutWorker pid=17604)\u001b[0m No function for resetIO implemented\n",
      "\u001b[2m\u001b[36m(RolloutWorker pid=28920)\u001b[0m No function for resetIO implemented\n",
      "\u001b[2m\u001b[36m(RolloutWorker pid=22500)\u001b[0m No function for resetIO implemented\n"
     ]
    },
    {
     "name": "stderr",
     "output_type": "stream",
     "text": [
      "\u001b[2m\u001b[36m(RolloutWorker pid=17604)\u001b[0m 2022-11-11 14:06:55,123\tWARNING env.py:147 -- Your env doesn't have a .spec.max_episode_steps attribute. This is fine if you have set 'horizon' in your config dictionary, or `soft_horizon`. However, if you haven't, 'horizon' will default to infinity, and your environment will not be reset.\n",
      "2022-11-11 14:07:00,092\tINFO trainable.py:164 -- Trainable.setup took 10.195 seconds. If your trainable is slow to initialize, consider setting reuse_actors=True to reduce actor creation overheads.\n"
     ]
    }
   ],
   "source": [
    "agent = ppo.PPO(env=ExampleFMU.gymFMU, config={\"env_config\": config, \"num_workers\": 4, \"num_gpus\": 1})\n",
    "#for i in range(50):\n",
    " #   out = trainer.train()\n",
    "  #  print(out['episode_reward_max'])"
   ]
  },
  {
   "cell_type": "code",
   "execution_count": 8,
   "id": "e13acc6e",
   "metadata": {},
   "outputs": [
    {
     "name": "stdout",
     "output_type": "stream",
     "text": [
      "  1 reward -241.49/-181.30/-134.84 len  39.00 saved C:\\Users\\Robert/ray_results\\PPO_gymFMU_2022-11-11_14-06-4931bktt4l\\checkpoint_000011\n",
      "  2 reward -215.10/-162.66/-119.73 len  39.00 saved C:\\Users\\Robert/ray_results\\PPO_gymFMU_2022-11-11_14-06-4931bktt4l\\checkpoint_000012\n",
      "  3 reward -198.28/-151.69/-103.50 len  39.00 saved C:\\Users\\Robert/ray_results\\PPO_gymFMU_2022-11-11_14-06-4931bktt4l\\checkpoint_000013\n",
      "  4 reward -199.08/-145.63/-109.58 len  39.00 saved C:\\Users\\Robert/ray_results\\PPO_gymFMU_2022-11-11_14-06-4931bktt4l\\checkpoint_000014\n",
      "  5 reward -186.93/-131.66/-93.88 len  39.00 saved C:\\Users\\Robert/ray_results\\PPO_gymFMU_2022-11-11_14-06-4931bktt4l\\checkpoint_000015\n",
      "  6 reward -164.65/-119.34/-84.56 len  39.00 saved C:\\Users\\Robert/ray_results\\PPO_gymFMU_2022-11-11_14-06-4931bktt4l\\checkpoint_000016\n",
      "  7 reward -155.80/-106.89/-78.05 len  39.00 saved C:\\Users\\Robert/ray_results\\PPO_gymFMU_2022-11-11_14-06-4931bktt4l\\checkpoint_000017\n",
      "  8 reward -137.03/-93.86/-64.88 len  39.00 saved C:\\Users\\Robert/ray_results\\PPO_gymFMU_2022-11-11_14-06-4931bktt4l\\checkpoint_000018\n",
      "  9 reward -119.80/-87.04/-62.75 len  39.00 saved C:\\Users\\Robert/ray_results\\PPO_gymFMU_2022-11-11_14-06-4931bktt4l\\checkpoint_000019\n",
      " 10 reward -115.78/-81.19/-54.18 len  39.00 saved C:\\Users\\Robert/ray_results\\PPO_gymFMU_2022-11-11_14-06-4931bktt4l\\checkpoint_000020\n",
      " 11 reward -98.80/-75.26/-53.43 len  39.00 saved C:\\Users\\Robert/ray_results\\PPO_gymFMU_2022-11-11_14-06-4931bktt4l\\checkpoint_000021\n",
      " 12 reward -96.36/-68.12/-43.55 len  39.00 saved C:\\Users\\Robert/ray_results\\PPO_gymFMU_2022-11-11_14-06-4931bktt4l\\checkpoint_000022\n",
      " 13 reward -81.41/-58.75/-44.52 len  39.00 saved C:\\Users\\Robert/ray_results\\PPO_gymFMU_2022-11-11_14-06-4931bktt4l\\checkpoint_000023\n",
      " 14 reward -62.35/-48.62/-36.07 len  39.00 saved C:\\Users\\Robert/ray_results\\PPO_gymFMU_2022-11-11_14-06-4931bktt4l\\checkpoint_000024\n",
      " 15 reward -63.53/-45.84/-28.33 len  39.00 saved C:\\Users\\Robert/ray_results\\PPO_gymFMU_2022-11-11_14-06-4931bktt4l\\checkpoint_000025\n",
      " 16 reward -54.06/-41.93/-31.17 len  39.00 saved C:\\Users\\Robert/ray_results\\PPO_gymFMU_2022-11-11_14-06-4931bktt4l\\checkpoint_000026\n",
      " 17 reward -48.75/-38.68/-25.94 len  39.00 saved C:\\Users\\Robert/ray_results\\PPO_gymFMU_2022-11-11_14-06-4931bktt4l\\checkpoint_000027\n",
      " 18 reward -50.94/-36.20/-26.89 len  39.00 saved C:\\Users\\Robert/ray_results\\PPO_gymFMU_2022-11-11_14-06-4931bktt4l\\checkpoint_000028\n",
      " 19 reward -44.14/-33.41/-22.90 len  39.00 saved C:\\Users\\Robert/ray_results\\PPO_gymFMU_2022-11-11_14-06-4931bktt4l\\checkpoint_000029\n",
      " 20 reward -39.65/-31.29/-23.56 len  39.00 saved C:\\Users\\Robert/ray_results\\PPO_gymFMU_2022-11-11_14-06-4931bktt4l\\checkpoint_000030\n",
      " 21 reward -36.69/-29.39/-20.89 len  39.00 saved C:\\Users\\Robert/ray_results\\PPO_gymFMU_2022-11-11_14-06-4931bktt4l\\checkpoint_000031\n",
      " 22 reward -40.85/-26.38/-18.34 len  39.00 saved C:\\Users\\Robert/ray_results\\PPO_gymFMU_2022-11-11_14-06-4931bktt4l\\checkpoint_000032\n",
      " 23 reward -31.36/-24.84/-18.78 len  39.00 saved C:\\Users\\Robert/ray_results\\PPO_gymFMU_2022-11-11_14-06-4931bktt4l\\checkpoint_000033\n",
      " 24 reward -29.08/-23.35/-16.50 len  39.00 saved C:\\Users\\Robert/ray_results\\PPO_gymFMU_2022-11-11_14-06-4931bktt4l\\checkpoint_000034\n",
      " 25 reward -27.28/-21.82/-15.85 len  39.00 saved C:\\Users\\Robert/ray_results\\PPO_gymFMU_2022-11-11_14-06-4931bktt4l\\checkpoint_000035\n",
      " 26 reward -25.92/-20.56/-15.01 len  39.00 saved C:\\Users\\Robert/ray_results\\PPO_gymFMU_2022-11-11_14-06-4931bktt4l\\checkpoint_000036\n",
      " 27 reward -24.65/-18.85/-13.96 len  39.00 saved C:\\Users\\Robert/ray_results\\PPO_gymFMU_2022-11-11_14-06-4931bktt4l\\checkpoint_000037\n",
      " 28 reward -23.28/-17.56/-13.46 len  39.00 saved C:\\Users\\Robert/ray_results\\PPO_gymFMU_2022-11-11_14-06-4931bktt4l\\checkpoint_000038\n",
      " 29 reward -21.11/-16.41/-12.70 len  39.00 saved C:\\Users\\Robert/ray_results\\PPO_gymFMU_2022-11-11_14-06-4931bktt4l\\checkpoint_000039\n",
      " 30 reward -19.61/-15.31/-11.85 len  39.00 saved C:\\Users\\Robert/ray_results\\PPO_gymFMU_2022-11-11_14-06-4931bktt4l\\checkpoint_000040\n"
     ]
    }
   ],
   "source": [
    "N_ITER = 30\n",
    "s = \"{:3d} reward {:6.2f}/{:6.2f}/{:6.2f} len {:6.2f} saved {}\"\n",
    "\n",
    "for n in range(N_ITER):\n",
    "    result = agent.train()\n",
    "    file_name = agent.save()\n",
    "\n",
    "    print(s.format(\n",
    "        n + 1,\n",
    "        result[\"episode_reward_min\"],\n",
    "        result[\"episode_reward_mean\"],\n",
    "        result[\"episode_reward_max\"],\n",
    "        result[\"episode_len_mean\"],\n",
    "        file_name\n",
    "        ))"
   ]
  },
  {
   "cell_type": "code",
   "execution_count": 13,
   "id": "0832fe65",
   "metadata": {},
   "outputs": [
    {
     "name": "stdout",
     "output_type": "stream",
     "text": [
      "[-0.98804665]\n",
      "[-0.17939663]\n",
      "[0.01735783]\n",
      "[0.07866287]\n",
      "[-0.7643204]\n",
      "[-0.43307972]\n",
      "[0.9011345]\n",
      "[-0.2728691]\n",
      "[-0.10905838]\n",
      "[-0.09465981]\n",
      "[0.22913456]\n",
      "[-0.58753395]\n",
      "[-0.19029713]\n",
      "[0.13580894]\n",
      "[0.00219536]\n",
      "[-0.5944996]\n",
      "[0.4025879]\n",
      "[-0.35986042]\n",
      "[-0.42192078]\n",
      "[-0.3755989]\n"
     ]
    }
   ],
   "source": [
    "for x in range(20):\n",
    "    print(agent.compute_single_action([10]))\n"
   ]
  },
  {
   "cell_type": "code",
   "execution_count": 7,
   "id": "5bb0b2f4",
   "metadata": {},
   "outputs": [],
   "source": [
    "ray.shutdown()\n"
   ]
  },
  {
   "cell_type": "code",
   "execution_count": 9,
   "id": "a17d6053",
   "metadata": {},
   "outputs": [],
   "source": [
    "import gym.spaces"
   ]
  },
  {
   "cell_type": "code",
   "execution_count": 7,
   "id": "7153fff5",
   "metadata": {},
   "outputs": [
    {
     "data": {
      "text/plain": [
       "gym.spaces.discrete.Discrete"
      ]
     },
     "execution_count": 7,
     "metadata": {},
     "output_type": "execute_result"
    }
   ],
   "source": [
    "type(gym.spaces.discrete.Discrete(1))"
   ]
  },
  {
   "cell_type": "code",
   "execution_count": 38,
   "id": "60e6dc46",
   "metadata": {},
   "outputs": [
    {
     "data": {
      "text/plain": [
       "True"
      ]
     },
     "execution_count": 38,
     "metadata": {},
     "output_type": "execute_result"
    }
   ],
   "source": [
    "gym.spaces.discrete.Discrete(10, start=-2).contains(x.reset()[0])\n"
   ]
  },
  {
   "cell_type": "code",
   "execution_count": 33,
   "id": "c6136d46",
   "metadata": {},
   "outputs": [],
   "source": [
    "x = ExampleFMU.gymFMU(config)"
   ]
  },
  {
   "cell_type": "code",
   "execution_count": 34,
   "id": "0a1ed994",
   "metadata": {},
   "outputs": [
    {
     "data": {
      "text/plain": [
       "array([5], dtype=int64)"
      ]
     },
     "execution_count": 34,
     "metadata": {},
     "output_type": "execute_result"
    }
   ],
   "source": []
  },
  {
   "cell_type": "code",
   "execution_count": null,
   "id": "1a78de51",
   "metadata": {},
   "outputs": [],
   "source": []
  }
 ],
 "metadata": {
  "kernelspec": {
   "display_name": "Python 3 (ipykernel)",
   "language": "python",
   "name": "python3"
  },
  "language_info": {
   "codemirror_mode": {
    "name": "ipython",
    "version": 3
   },
   "file_extension": ".py",
   "mimetype": "text/x-python",
   "name": "python",
   "nbconvert_exporter": "python",
   "pygments_lexer": "ipython3",
   "version": "3.9.13"
  }
 },
 "nbformat": 4,
 "nbformat_minor": 5
}
